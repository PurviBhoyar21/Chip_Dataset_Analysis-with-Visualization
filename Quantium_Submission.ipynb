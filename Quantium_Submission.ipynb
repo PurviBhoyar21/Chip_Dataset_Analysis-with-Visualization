{
  "nbformat": 4,
  "nbformat_minor": 0,
  "metadata": {
    "accelerator": "GPU",
    "colab": {
      "name": "Quantium_Submission.ipynb",
      "provenance": [],
      "collapsed_sections": []
    },
    "kernelspec": {
      "display_name": "Python 3",
      "name": "python3"
    },
    "language_info": {
      "name": "python"
    }
  },
  "cells": [
    {
      "cell_type": "markdown",
      "metadata": {
        "id": "Vwoi0z-uSAVS"
      },
      "source": [
        "![quantium.png](data:image/png;base64,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)"
      ]
    },
    {
      "cell_type": "markdown",
      "metadata": {
        "id": "zA4YPC8yRlyw"
      },
      "source": [
        "# **QUANTIUM DATA SET SUBMISSION**\n",
        "\n"
      ]
    },
    {
      "cell_type": "markdown",
      "metadata": {
        "id": "7M1euSQgNFWa"
      },
      "source": [
        "## **Importing Necessary libraries**"
      ]
    },
    {
      "cell_type": "code",
      "metadata": {
        "id": "OgisBg2KmZqI"
      },
      "source": [
        "import pandas as pd\n",
        "import numpy as np\n",
        "import seaborn as sns\n",
        "import matplotlib.pyplot as myplot"
      ],
      "execution_count": 130,
      "outputs": []
    },
    {
      "cell_type": "markdown",
      "metadata": {
        "id": "lmr9XncYNQE6"
      },
      "source": [
        "# **Mounting drive**"
      ]
    },
    {
      "cell_type": "code",
      "metadata": {
        "colab": {
          "base_uri": "https://localhost:8080/"
        },
        "id": "z4J5UkF7oQc8",
        "outputId": "1fd2300e-4fc0-47d9-a0d6-15c049284412"
      },
      "source": [
        "from google.colab import drive\n",
        "drive.mount('/content/drive')"
      ],
      "execution_count": 131,
      "outputs": [
        {
          "output_type": "stream",
          "text": [
            "Drive already mounted at /content/drive; to attempt to forcibly remount, call drive.mount(\"/content/drive\", force_remount=True).\n"
          ],
          "name": "stdout"
        }
      ]
    },
    {
      "cell_type": "markdown",
      "metadata": {
        "id": "dtEuqTkySWAT"
      },
      "source": [
        "**Reading the transaction chip data first**"
      ]
    },
    {
      "cell_type": "code",
      "metadata": {
        "colab": {
          "base_uri": "https://localhost:8080/",
          "height": 204
        },
        "id": "nlpn7Eh0pOjJ",
        "outputId": "aaa2fcb6-40d1-404d-d65a-dc74627b79f7"
      },
      "source": [
        "fold=pd.read_excel('/content/drive/MyDrive/QUANTIUM/QVI_transaction_data.xlsx')         #Reading data\n",
        "fold.head()"
      ],
      "execution_count": 132,
      "outputs": [
        {
          "output_type": "execute_result",
          "data": {
            "text/html": [
              "<div>\n",
              "<style scoped>\n",
              "    .dataframe tbody tr th:only-of-type {\n",
              "        vertical-align: middle;\n",
              "    }\n",
              "\n",
              "    .dataframe tbody tr th {\n",
              "        vertical-align: top;\n",
              "    }\n",
              "\n",
              "    .dataframe thead th {\n",
              "        text-align: right;\n",
              "    }\n",
              "</style>\n",
              "<table border=\"1\" class=\"dataframe\">\n",
              "  <thead>\n",
              "    <tr style=\"text-align: right;\">\n",
              "      <th></th>\n",
              "      <th>DATE</th>\n",
              "      <th>STORE_NBR</th>\n",
              "      <th>LYLTY_CARD_NBR</th>\n",
              "      <th>TXN_ID</th>\n",
              "      <th>PROD_NBR</th>\n",
              "      <th>PROD_NAME</th>\n",
              "      <th>PROD_QTY</th>\n",
              "      <th>TOT_SALES</th>\n",
              "    </tr>\n",
              "  </thead>\n",
              "  <tbody>\n",
              "    <tr>\n",
              "      <th>0</th>\n",
              "      <td>43390</td>\n",
              "      <td>1</td>\n",
              "      <td>1000</td>\n",
              "      <td>1</td>\n",
              "      <td>5</td>\n",
              "      <td>Natural Chip        Compny SeaSalt 175g</td>\n",
              "      <td>2</td>\n",
              "      <td>6.0</td>\n",
              "    </tr>\n",
              "    <tr>\n",
              "      <th>1</th>\n",
              "      <td>43599</td>\n",
              "      <td>1</td>\n",
              "      <td>1307</td>\n",
              "      <td>348</td>\n",
              "      <td>66</td>\n",
              "      <td>CCs Nacho Cheese    175g</td>\n",
              "      <td>3</td>\n",
              "      <td>6.3</td>\n",
              "    </tr>\n",
              "    <tr>\n",
              "      <th>2</th>\n",
              "      <td>43605</td>\n",
              "      <td>1</td>\n",
              "      <td>1343</td>\n",
              "      <td>383</td>\n",
              "      <td>61</td>\n",
              "      <td>Smiths Crinkle Cut  Chips Chicken 170g</td>\n",
              "      <td>2</td>\n",
              "      <td>2.9</td>\n",
              "    </tr>\n",
              "    <tr>\n",
              "      <th>3</th>\n",
              "      <td>43329</td>\n",
              "      <td>2</td>\n",
              "      <td>2373</td>\n",
              "      <td>974</td>\n",
              "      <td>69</td>\n",
              "      <td>Smiths Chip Thinly  S/Cream&amp;Onion 175g</td>\n",
              "      <td>5</td>\n",
              "      <td>15.0</td>\n",
              "    </tr>\n",
              "    <tr>\n",
              "      <th>4</th>\n",
              "      <td>43330</td>\n",
              "      <td>2</td>\n",
              "      <td>2426</td>\n",
              "      <td>1038</td>\n",
              "      <td>108</td>\n",
              "      <td>Kettle Tortilla ChpsHny&amp;Jlpno Chili 150g</td>\n",
              "      <td>3</td>\n",
              "      <td>13.8</td>\n",
              "    </tr>\n",
              "  </tbody>\n",
              "</table>\n",
              "</div>"
            ],
            "text/plain": [
              "    DATE  STORE_NBR  LYLTY_CARD_NBR  TXN_ID  PROD_NBR  \\\n",
              "0  43390          1            1000       1         5   \n",
              "1  43599          1            1307     348        66   \n",
              "2  43605          1            1343     383        61   \n",
              "3  43329          2            2373     974        69   \n",
              "4  43330          2            2426    1038       108   \n",
              "\n",
              "                                  PROD_NAME  PROD_QTY  TOT_SALES  \n",
              "0   Natural Chip        Compny SeaSalt 175g         2        6.0  \n",
              "1                  CCs Nacho Cheese    175g         3        6.3  \n",
              "2    Smiths Crinkle Cut  Chips Chicken 170g         2        2.9  \n",
              "3    Smiths Chip Thinly  S/Cream&Onion 175g         5       15.0  \n",
              "4  Kettle Tortilla ChpsHny&Jlpno Chili 150g         3       13.8  "
            ]
          },
          "metadata": {
            "tags": []
          },
          "execution_count": 132
        }
      ]
    },
    {
      "cell_type": "code",
      "metadata": {
        "colab": {
          "base_uri": "https://localhost:8080/"
        },
        "id": "A6OULhyipgJC",
        "outputId": "6143aa1f-c454-4171-fffc-90f8bff652a5"
      },
      "source": [
        "fold.isnull().sum()     #no NULL values"
      ],
      "execution_count": 133,
      "outputs": [
        {
          "output_type": "execute_result",
          "data": {
            "text/plain": [
              "DATE              0\n",
              "STORE_NBR         0\n",
              "LYLTY_CARD_NBR    0\n",
              "TXN_ID            0\n",
              "PROD_NBR          0\n",
              "PROD_NAME         0\n",
              "PROD_QTY          0\n",
              "TOT_SALES         0\n",
              "dtype: int64"
            ]
          },
          "metadata": {
            "tags": []
          },
          "execution_count": 133
        }
      ]
    },
    {
      "cell_type": "code",
      "metadata": {
        "colab": {
          "base_uri": "https://localhost:8080/"
        },
        "id": "xq_V3aFwpgYk",
        "outputId": "2ac6e761-6243-45ea-da4f-061c4d937dee"
      },
      "source": [
        "fold.dtypes   # To return datatypes "
      ],
      "execution_count": 134,
      "outputs": [
        {
          "output_type": "execute_result",
          "data": {
            "text/plain": [
              "DATE                int64\n",
              "STORE_NBR           int64\n",
              "LYLTY_CARD_NBR      int64\n",
              "TXN_ID              int64\n",
              "PROD_NBR            int64\n",
              "PROD_NAME          object\n",
              "PROD_QTY            int64\n",
              "TOT_SALES         float64\n",
              "dtype: object"
            ]
          },
          "metadata": {
            "tags": []
          },
          "execution_count": 134
        }
      ]
    },
    {
      "cell_type": "code",
      "metadata": {
        "colab": {
          "base_uri": "https://localhost:8080/"
        },
        "id": "b3EAZp9SpnIC",
        "outputId": "77146af3-969d-4120-d20b-e2153b109253"
      },
      "source": [
        "fold['PROD_NAME'].unique()[:25]            #Reading the first 25 unique PROD_NAMEs of the data  "
      ],
      "execution_count": 135,
      "outputs": [
        {
          "output_type": "execute_result",
          "data": {
            "text/plain": [
              "array(['Natural Chip        Compny SeaSalt 175g',\n",
              "       'CCs Nacho Cheese    175g',\n",
              "       'Smiths Crinkle Cut  Chips Chicken 170g',\n",
              "       'Smiths Chip Thinly  S/Cream&Onion 175g',\n",
              "       'Kettle Tortilla ChpsHny&Jlpno Chili 150g',\n",
              "       'Old El Paso Salsa   Dip Tomato Mild 300g',\n",
              "       'Smiths Crinkle Chips Salt & Vinegar 330g',\n",
              "       'Grain Waves         Sweet Chilli 210g',\n",
              "       'Doritos Corn Chip Mexican Jalapeno 150g',\n",
              "       'Grain Waves Sour    Cream&Chives 210G',\n",
              "       'Kettle Sensations   Siracha Lime 150g',\n",
              "       'Twisties Cheese     270g', 'WW Crinkle Cut      Chicken 175g',\n",
              "       'Thins Chips Light&  Tangy 175g', 'CCs Original 175g',\n",
              "       'Burger Rings 220g', 'NCC Sour Cream &    Garden Chives 175g',\n",
              "       'Doritos Corn Chip Southern Chicken 150g',\n",
              "       'Cheezels Cheese Box 125g', 'Smiths Crinkle      Original 330g',\n",
              "       'Infzns Crn Crnchers Tangy Gcamole 110g',\n",
              "       'Kettle Sea Salt     And Vinegar 175g',\n",
              "       'Smiths Chip Thinly  Cut Original 175g', 'Kettle Original 175g',\n",
              "       'Red Rock Deli Thai  Chilli&Lime 150g'], dtype=object)"
            ]
          },
          "metadata": {
            "tags": []
          },
          "execution_count": 135
        }
      ]
    },
    {
      "cell_type": "code",
      "metadata": {
        "colab": {
          "base_uri": "https://localhost:8080/"
        },
        "id": "51VAWU8HpnP7",
        "outputId": "ae54a3f0-a6de-4799-a4c9-236f9639a13d"
      },
      "source": [
        "with_salsa=fold[fold['PROD_NAME'].str.contains('salsa',case=False)]['PROD_NAME'].unique()\n",
        "#some PROD_NAMEs have salsa in their respective names but salsa is also a flavour \n",
        "#So, the list of names having salsa as a subname have to be listed and then removed in order to avoid confusion further.\n",
        "with_salsa "
      ],
      "execution_count": 136,
      "outputs": [
        {
          "output_type": "execute_result",
          "data": {
            "text/plain": [
              "array(['Old El Paso Salsa   Dip Tomato Mild 300g',\n",
              "       'Red Rock Deli SR    Salsa & Mzzrlla 150g',\n",
              "       'Smiths Crinkle Cut  Tomato Salsa 150g',\n",
              "       'Doritos Salsa       Medium 300g',\n",
              "       'Old El Paso Salsa   Dip Chnky Tom Ht 300g',\n",
              "       'Woolworths Mild     Salsa 300g',\n",
              "       'Old El Paso Salsa   Dip Tomato Med 300g',\n",
              "       'Woolworths Medium   Salsa 300g',\n",
              "       'Old El Paso Salsa   Dip Chnky Tom Ht300g',\n",
              "       'Doritos Salsa Mild  300g'], dtype=object)"
            ]
          },
          "metadata": {
            "tags": []
          },
          "execution_count": 136
        }
      ]
    },
    {
      "cell_type": "code",
      "metadata": {
        "id": "FFzmW0pYqHrr"
      },
      "source": [
        "salsa_word=fold.index[fold['PROD_NAME'].str.contains('salsa',case=False) & (fold['PROD_NAME'].str.contains('Old',case=False) | fold['PROD_NAME'].str.contains('Woolworths',case=False) )]"
      ],
      "execution_count": 137,
      "outputs": []
    },
    {
      "cell_type": "code",
      "metadata": {
        "colab": {
          "base_uri": "https://localhost:8080/"
        },
        "id": "_5_8jgBVqMdG",
        "outputId": "8d849f14-2fde-4d14-e46f-23376abf0b38"
      },
      "source": [
        "#Old El Paso Salsa and Woolworths Medium  /Mild  are the examples of such words.\n",
        "salsa_word"
      ],
      "execution_count": 138,
      "outputs": [
        {
          "output_type": "execute_result",
          "data": {
            "text/plain": [
              "Int64Index([     5,     25,     71,     74,     87,    114,    131,    158,\n",
              "               178,    207,\n",
              "            ...\n",
              "            264551, 264554, 264594, 264607, 264615, 264628, 264640, 264643,\n",
              "            264675, 264678],\n",
              "           dtype='int64', length=12245)"
            ]
          },
          "metadata": {
            "tags": []
          },
          "execution_count": 138
        }
      ]
    },
    {
      "cell_type": "code",
      "metadata": {
        "colab": {
          "base_uri": "https://localhost:8080/",
          "height": 204
        },
        "id": "x1KQTWutqPeh",
        "outputId": "42126a39-1390-45b4-8a84-2d2d3738d593"
      },
      "source": [
        "fold_off_salsa=fold.drop(salsa_word,axis=0)     #dropping those entries by column (axis=0)\n",
        "fold_off_salsa.head()"
      ],
      "execution_count": 139,
      "outputs": [
        {
          "output_type": "execute_result",
          "data": {
            "text/html": [
              "<div>\n",
              "<style scoped>\n",
              "    .dataframe tbody tr th:only-of-type {\n",
              "        vertical-align: middle;\n",
              "    }\n",
              "\n",
              "    .dataframe tbody tr th {\n",
              "        vertical-align: top;\n",
              "    }\n",
              "\n",
              "    .dataframe thead th {\n",
              "        text-align: right;\n",
              "    }\n",
              "</style>\n",
              "<table border=\"1\" class=\"dataframe\">\n",
              "  <thead>\n",
              "    <tr style=\"text-align: right;\">\n",
              "      <th></th>\n",
              "      <th>DATE</th>\n",
              "      <th>STORE_NBR</th>\n",
              "      <th>LYLTY_CARD_NBR</th>\n",
              "      <th>TXN_ID</th>\n",
              "      <th>PROD_NBR</th>\n",
              "      <th>PROD_NAME</th>\n",
              "      <th>PROD_QTY</th>\n",
              "      <th>TOT_SALES</th>\n",
              "    </tr>\n",
              "  </thead>\n",
              "  <tbody>\n",
              "    <tr>\n",
              "      <th>0</th>\n",
              "      <td>43390</td>\n",
              "      <td>1</td>\n",
              "      <td>1000</td>\n",
              "      <td>1</td>\n",
              "      <td>5</td>\n",
              "      <td>Natural Chip        Compny SeaSalt 175g</td>\n",
              "      <td>2</td>\n",
              "      <td>6.0</td>\n",
              "    </tr>\n",
              "    <tr>\n",
              "      <th>1</th>\n",
              "      <td>43599</td>\n",
              "      <td>1</td>\n",
              "      <td>1307</td>\n",
              "      <td>348</td>\n",
              "      <td>66</td>\n",
              "      <td>CCs Nacho Cheese    175g</td>\n",
              "      <td>3</td>\n",
              "      <td>6.3</td>\n",
              "    </tr>\n",
              "    <tr>\n",
              "      <th>2</th>\n",
              "      <td>43605</td>\n",
              "      <td>1</td>\n",
              "      <td>1343</td>\n",
              "      <td>383</td>\n",
              "      <td>61</td>\n",
              "      <td>Smiths Crinkle Cut  Chips Chicken 170g</td>\n",
              "      <td>2</td>\n",
              "      <td>2.9</td>\n",
              "    </tr>\n",
              "    <tr>\n",
              "      <th>3</th>\n",
              "      <td>43329</td>\n",
              "      <td>2</td>\n",
              "      <td>2373</td>\n",
              "      <td>974</td>\n",
              "      <td>69</td>\n",
              "      <td>Smiths Chip Thinly  S/Cream&amp;Onion 175g</td>\n",
              "      <td>5</td>\n",
              "      <td>15.0</td>\n",
              "    </tr>\n",
              "    <tr>\n",
              "      <th>4</th>\n",
              "      <td>43330</td>\n",
              "      <td>2</td>\n",
              "      <td>2426</td>\n",
              "      <td>1038</td>\n",
              "      <td>108</td>\n",
              "      <td>Kettle Tortilla ChpsHny&amp;Jlpno Chili 150g</td>\n",
              "      <td>3</td>\n",
              "      <td>13.8</td>\n",
              "    </tr>\n",
              "  </tbody>\n",
              "</table>\n",
              "</div>"
            ],
            "text/plain": [
              "    DATE  STORE_NBR  LYLTY_CARD_NBR  TXN_ID  PROD_NBR  \\\n",
              "0  43390          1            1000       1         5   \n",
              "1  43599          1            1307     348        66   \n",
              "2  43605          1            1343     383        61   \n",
              "3  43329          2            2373     974        69   \n",
              "4  43330          2            2426    1038       108   \n",
              "\n",
              "                                  PROD_NAME  PROD_QTY  TOT_SALES  \n",
              "0   Natural Chip        Compny SeaSalt 175g         2        6.0  \n",
              "1                  CCs Nacho Cheese    175g         3        6.3  \n",
              "2    Smiths Crinkle Cut  Chips Chicken 170g         2        2.9  \n",
              "3    Smiths Chip Thinly  S/Cream&Onion 175g         5       15.0  \n",
              "4  Kettle Tortilla ChpsHny&Jlpno Chili 150g         3       13.8  "
            ]
          },
          "metadata": {
            "tags": []
          },
          "execution_count": 139
        }
      ]
    },
    {
      "cell_type": "code",
      "metadata": {
        "id": "Ggsnwx7NqPnH"
      },
      "source": [
        "fold_off_salsa['BRAND_NAME']=fold_off_salsa['PROD_NAME'].apply(lambda a:a.strip().split()[0])\n",
        " #accessing the first main name of the PROD_NAME company through indexing and representing them in a new column as a respective BRAND NAME."
      ],
      "execution_count": 140,
      "outputs": []
    },
    {
      "cell_type": "code",
      "metadata": {
        "colab": {
          "base_uri": "https://localhost:8080/",
          "height": 204
        },
        "id": "iInUMokBqPrY",
        "outputId": "34ff5b3d-d48e-486e-d048-b588eb7a2c00"
      },
      "source": [
        "fold_off_salsa.head()"
      ],
      "execution_count": 141,
      "outputs": [
        {
          "output_type": "execute_result",
          "data": {
            "text/html": [
              "<div>\n",
              "<style scoped>\n",
              "    .dataframe tbody tr th:only-of-type {\n",
              "        vertical-align: middle;\n",
              "    }\n",
              "\n",
              "    .dataframe tbody tr th {\n",
              "        vertical-align: top;\n",
              "    }\n",
              "\n",
              "    .dataframe thead th {\n",
              "        text-align: right;\n",
              "    }\n",
              "</style>\n",
              "<table border=\"1\" class=\"dataframe\">\n",
              "  <thead>\n",
              "    <tr style=\"text-align: right;\">\n",
              "      <th></th>\n",
              "      <th>DATE</th>\n",
              "      <th>STORE_NBR</th>\n",
              "      <th>LYLTY_CARD_NBR</th>\n",
              "      <th>TXN_ID</th>\n",
              "      <th>PROD_NBR</th>\n",
              "      <th>PROD_NAME</th>\n",
              "      <th>PROD_QTY</th>\n",
              "      <th>TOT_SALES</th>\n",
              "      <th>BRAND_NAME</th>\n",
              "    </tr>\n",
              "  </thead>\n",
              "  <tbody>\n",
              "    <tr>\n",
              "      <th>0</th>\n",
              "      <td>43390</td>\n",
              "      <td>1</td>\n",
              "      <td>1000</td>\n",
              "      <td>1</td>\n",
              "      <td>5</td>\n",
              "      <td>Natural Chip        Compny SeaSalt 175g</td>\n",
              "      <td>2</td>\n",
              "      <td>6.0</td>\n",
              "      <td>Natural</td>\n",
              "    </tr>\n",
              "    <tr>\n",
              "      <th>1</th>\n",
              "      <td>43599</td>\n",
              "      <td>1</td>\n",
              "      <td>1307</td>\n",
              "      <td>348</td>\n",
              "      <td>66</td>\n",
              "      <td>CCs Nacho Cheese    175g</td>\n",
              "      <td>3</td>\n",
              "      <td>6.3</td>\n",
              "      <td>CCs</td>\n",
              "    </tr>\n",
              "    <tr>\n",
              "      <th>2</th>\n",
              "      <td>43605</td>\n",
              "      <td>1</td>\n",
              "      <td>1343</td>\n",
              "      <td>383</td>\n",
              "      <td>61</td>\n",
              "      <td>Smiths Crinkle Cut  Chips Chicken 170g</td>\n",
              "      <td>2</td>\n",
              "      <td>2.9</td>\n",
              "      <td>Smiths</td>\n",
              "    </tr>\n",
              "    <tr>\n",
              "      <th>3</th>\n",
              "      <td>43329</td>\n",
              "      <td>2</td>\n",
              "      <td>2373</td>\n",
              "      <td>974</td>\n",
              "      <td>69</td>\n",
              "      <td>Smiths Chip Thinly  S/Cream&amp;Onion 175g</td>\n",
              "      <td>5</td>\n",
              "      <td>15.0</td>\n",
              "      <td>Smiths</td>\n",
              "    </tr>\n",
              "    <tr>\n",
              "      <th>4</th>\n",
              "      <td>43330</td>\n",
              "      <td>2</td>\n",
              "      <td>2426</td>\n",
              "      <td>1038</td>\n",
              "      <td>108</td>\n",
              "      <td>Kettle Tortilla ChpsHny&amp;Jlpno Chili 150g</td>\n",
              "      <td>3</td>\n",
              "      <td>13.8</td>\n",
              "      <td>Kettle</td>\n",
              "    </tr>\n",
              "  </tbody>\n",
              "</table>\n",
              "</div>"
            ],
            "text/plain": [
              "    DATE  STORE_NBR  LYLTY_CARD_NBR  TXN_ID  PROD_NBR  \\\n",
              "0  43390          1            1000       1         5   \n",
              "1  43599          1            1307     348        66   \n",
              "2  43605          1            1343     383        61   \n",
              "3  43329          2            2373     974        69   \n",
              "4  43330          2            2426    1038       108   \n",
              "\n",
              "                                  PROD_NAME  PROD_QTY  TOT_SALES BRAND_NAME  \n",
              "0   Natural Chip        Compny SeaSalt 175g         2        6.0    Natural  \n",
              "1                  CCs Nacho Cheese    175g         3        6.3        CCs  \n",
              "2    Smiths Crinkle Cut  Chips Chicken 170g         2        2.9     Smiths  \n",
              "3    Smiths Chip Thinly  S/Cream&Onion 175g         5       15.0     Smiths  \n",
              "4  Kettle Tortilla ChpsHny&Jlpno Chili 150g         3       13.8     Kettle  "
            ]
          },
          "metadata": {
            "tags": []
          },
          "execution_count": 141
        }
      ]
    },
    {
      "cell_type": "code",
      "metadata": {
        "id": "4sTEU4fKqPtT"
      },
      "source": [
        "def extract_size(x): #Function to get the weight/size of each listed Chip packet and allocating a new column in the data to it in order to analyze better.\n",
        "    size=[]\n",
        "    for i in x:\n",
        "        if i.isdigit():\n",
        "            size.append(i)\n",
        "    return \"\".join(size)"
      ],
      "execution_count": 142,
      "outputs": []
    },
    {
      "cell_type": "code",
      "metadata": {
        "id": "bJtNsxzrqPx4"
      },
      "source": [
        "fold_off_salsa['PACK_SIZE']=fold_off_salsa['PROD_NAME'].apply(lambda x:extract_size(x)) "
      ],
      "execution_count": 143,
      "outputs": []
    },
    {
      "cell_type": "code",
      "metadata": {
        "colab": {
          "base_uri": "https://localhost:8080/",
          "height": 204
        },
        "id": "Hvjfx6f5qPzj",
        "outputId": "5fd4b77c-38d7-4cec-97f8-6e1e4f1dd219"
      },
      "source": [
        "fold_off_salsa.head()"
      ],
      "execution_count": 144,
      "outputs": [
        {
          "output_type": "execute_result",
          "data": {
            "text/html": [
              "<div>\n",
              "<style scoped>\n",
              "    .dataframe tbody tr th:only-of-type {\n",
              "        vertical-align: middle;\n",
              "    }\n",
              "\n",
              "    .dataframe tbody tr th {\n",
              "        vertical-align: top;\n",
              "    }\n",
              "\n",
              "    .dataframe thead th {\n",
              "        text-align: right;\n",
              "    }\n",
              "</style>\n",
              "<table border=\"1\" class=\"dataframe\">\n",
              "  <thead>\n",
              "    <tr style=\"text-align: right;\">\n",
              "      <th></th>\n",
              "      <th>DATE</th>\n",
              "      <th>STORE_NBR</th>\n",
              "      <th>LYLTY_CARD_NBR</th>\n",
              "      <th>TXN_ID</th>\n",
              "      <th>PROD_NBR</th>\n",
              "      <th>PROD_NAME</th>\n",
              "      <th>PROD_QTY</th>\n",
              "      <th>TOT_SALES</th>\n",
              "      <th>BRAND_NAME</th>\n",
              "      <th>PACK_SIZE</th>\n",
              "    </tr>\n",
              "  </thead>\n",
              "  <tbody>\n",
              "    <tr>\n",
              "      <th>0</th>\n",
              "      <td>43390</td>\n",
              "      <td>1</td>\n",
              "      <td>1000</td>\n",
              "      <td>1</td>\n",
              "      <td>5</td>\n",
              "      <td>Natural Chip        Compny SeaSalt 175g</td>\n",
              "      <td>2</td>\n",
              "      <td>6.0</td>\n",
              "      <td>Natural</td>\n",
              "      <td>175</td>\n",
              "    </tr>\n",
              "    <tr>\n",
              "      <th>1</th>\n",
              "      <td>43599</td>\n",
              "      <td>1</td>\n",
              "      <td>1307</td>\n",
              "      <td>348</td>\n",
              "      <td>66</td>\n",
              "      <td>CCs Nacho Cheese    175g</td>\n",
              "      <td>3</td>\n",
              "      <td>6.3</td>\n",
              "      <td>CCs</td>\n",
              "      <td>175</td>\n",
              "    </tr>\n",
              "    <tr>\n",
              "      <th>2</th>\n",
              "      <td>43605</td>\n",
              "      <td>1</td>\n",
              "      <td>1343</td>\n",
              "      <td>383</td>\n",
              "      <td>61</td>\n",
              "      <td>Smiths Crinkle Cut  Chips Chicken 170g</td>\n",
              "      <td>2</td>\n",
              "      <td>2.9</td>\n",
              "      <td>Smiths</td>\n",
              "      <td>170</td>\n",
              "    </tr>\n",
              "    <tr>\n",
              "      <th>3</th>\n",
              "      <td>43329</td>\n",
              "      <td>2</td>\n",
              "      <td>2373</td>\n",
              "      <td>974</td>\n",
              "      <td>69</td>\n",
              "      <td>Smiths Chip Thinly  S/Cream&amp;Onion 175g</td>\n",
              "      <td>5</td>\n",
              "      <td>15.0</td>\n",
              "      <td>Smiths</td>\n",
              "      <td>175</td>\n",
              "    </tr>\n",
              "    <tr>\n",
              "      <th>4</th>\n",
              "      <td>43330</td>\n",
              "      <td>2</td>\n",
              "      <td>2426</td>\n",
              "      <td>1038</td>\n",
              "      <td>108</td>\n",
              "      <td>Kettle Tortilla ChpsHny&amp;Jlpno Chili 150g</td>\n",
              "      <td>3</td>\n",
              "      <td>13.8</td>\n",
              "      <td>Kettle</td>\n",
              "      <td>150</td>\n",
              "    </tr>\n",
              "  </tbody>\n",
              "</table>\n",
              "</div>"
            ],
            "text/plain": [
              "    DATE  STORE_NBR  LYLTY_CARD_NBR  TXN_ID  PROD_NBR  \\\n",
              "0  43390          1            1000       1         5   \n",
              "1  43599          1            1307     348        66   \n",
              "2  43605          1            1343     383        61   \n",
              "3  43329          2            2373     974        69   \n",
              "4  43330          2            2426    1038       108   \n",
              "\n",
              "                                  PROD_NAME  PROD_QTY  TOT_SALES BRAND_NAME  \\\n",
              "0   Natural Chip        Compny SeaSalt 175g         2        6.0    Natural   \n",
              "1                  CCs Nacho Cheese    175g         3        6.3        CCs   \n",
              "2    Smiths Crinkle Cut  Chips Chicken 170g         2        2.9     Smiths   \n",
              "3    Smiths Chip Thinly  S/Cream&Onion 175g         5       15.0     Smiths   \n",
              "4  Kettle Tortilla ChpsHny&Jlpno Chili 150g         3       13.8     Kettle   \n",
              "\n",
              "  PACK_SIZE  \n",
              "0       175  \n",
              "1       175  \n",
              "2       170  \n",
              "3       175  \n",
              "4       150  "
            ]
          },
          "metadata": {
            "tags": []
          },
          "execution_count": 144
        }
      ]
    },
    {
      "cell_type": "code",
      "metadata": {
        "colab": {
          "base_uri": "https://localhost:8080/",
          "height": 297
        },
        "id": "76z0VGZjqgVJ",
        "outputId": "7b17aa2c-874f-4029-a3d8-fb7ca192f9b4"
      },
      "source": [
        "fold_off_salsa.describe() #describe to get the full information like below and also to find the sudden increase/decrease of the values in order to trase the outliers if needed."
      ],
      "execution_count": 145,
      "outputs": [
        {
          "output_type": "execute_result",
          "data": {
            "text/html": [
              "<div>\n",
              "<style scoped>\n",
              "    .dataframe tbody tr th:only-of-type {\n",
              "        vertical-align: middle;\n",
              "    }\n",
              "\n",
              "    .dataframe tbody tr th {\n",
              "        vertical-align: top;\n",
              "    }\n",
              "\n",
              "    .dataframe thead th {\n",
              "        text-align: right;\n",
              "    }\n",
              "</style>\n",
              "<table border=\"1\" class=\"dataframe\">\n",
              "  <thead>\n",
              "    <tr style=\"text-align: right;\">\n",
              "      <th></th>\n",
              "      <th>DATE</th>\n",
              "      <th>STORE_NBR</th>\n",
              "      <th>LYLTY_CARD_NBR</th>\n",
              "      <th>TXN_ID</th>\n",
              "      <th>PROD_NBR</th>\n",
              "      <th>PROD_QTY</th>\n",
              "      <th>TOT_SALES</th>\n",
              "    </tr>\n",
              "  </thead>\n",
              "  <tbody>\n",
              "    <tr>\n",
              "      <th>count</th>\n",
              "      <td>252591.000000</td>\n",
              "      <td>252591.000000</td>\n",
              "      <td>2.525910e+05</td>\n",
              "      <td>2.525910e+05</td>\n",
              "      <td>252591.000000</td>\n",
              "      <td>252591.000000</td>\n",
              "      <td>252591.000000</td>\n",
              "    </tr>\n",
              "    <tr>\n",
              "      <th>mean</th>\n",
              "      <td>43464.073629</td>\n",
              "      <td>135.069805</td>\n",
              "      <td>1.355420e+05</td>\n",
              "      <td>1.351490e+05</td>\n",
              "      <td>56.461616</td>\n",
              "      <td>1.907416</td>\n",
              "      <td>7.266076</td>\n",
              "    </tr>\n",
              "    <tr>\n",
              "      <th>std</th>\n",
              "      <td>105.397396</td>\n",
              "      <td>76.757270</td>\n",
              "      <td>8.059796e+04</td>\n",
              "      <td>7.811141e+04</td>\n",
              "      <td>33.525777</td>\n",
              "      <td>0.654648</td>\n",
              "      <td>3.066758</td>\n",
              "    </tr>\n",
              "    <tr>\n",
              "      <th>min</th>\n",
              "      <td>43282.000000</td>\n",
              "      <td>1.000000</td>\n",
              "      <td>1.000000e+03</td>\n",
              "      <td>1.000000e+00</td>\n",
              "      <td>1.000000</td>\n",
              "      <td>1.000000</td>\n",
              "      <td>1.700000</td>\n",
              "    </tr>\n",
              "    <tr>\n",
              "      <th>25%</th>\n",
              "      <td>43373.000000</td>\n",
              "      <td>70.000000</td>\n",
              "      <td>7.002700e+04</td>\n",
              "      <td>6.764550e+04</td>\n",
              "      <td>27.000000</td>\n",
              "      <td>2.000000</td>\n",
              "      <td>5.400000</td>\n",
              "    </tr>\n",
              "    <tr>\n",
              "      <th>50%</th>\n",
              "      <td>43464.000000</td>\n",
              "      <td>130.000000</td>\n",
              "      <td>1.303610e+05</td>\n",
              "      <td>1.351530e+05</td>\n",
              "      <td>53.000000</td>\n",
              "      <td>2.000000</td>\n",
              "      <td>7.400000</td>\n",
              "    </tr>\n",
              "    <tr>\n",
              "      <th>75%</th>\n",
              "      <td>43555.000000</td>\n",
              "      <td>203.000000</td>\n",
              "      <td>2.030800e+05</td>\n",
              "      <td>2.026345e+05</td>\n",
              "      <td>87.000000</td>\n",
              "      <td>2.000000</td>\n",
              "      <td>8.800000</td>\n",
              "    </tr>\n",
              "    <tr>\n",
              "      <th>max</th>\n",
              "      <td>43646.000000</td>\n",
              "      <td>272.000000</td>\n",
              "      <td>2.373711e+06</td>\n",
              "      <td>2.415841e+06</td>\n",
              "      <td>114.000000</td>\n",
              "      <td>200.000000</td>\n",
              "      <td>650.000000</td>\n",
              "    </tr>\n",
              "  </tbody>\n",
              "</table>\n",
              "</div>"
            ],
            "text/plain": [
              "                DATE      STORE_NBR  LYLTY_CARD_NBR        TXN_ID  \\\n",
              "count  252591.000000  252591.000000    2.525910e+05  2.525910e+05   \n",
              "mean    43464.073629     135.069805    1.355420e+05  1.351490e+05   \n",
              "std       105.397396      76.757270    8.059796e+04  7.811141e+04   \n",
              "min     43282.000000       1.000000    1.000000e+03  1.000000e+00   \n",
              "25%     43373.000000      70.000000    7.002700e+04  6.764550e+04   \n",
              "50%     43464.000000     130.000000    1.303610e+05  1.351530e+05   \n",
              "75%     43555.000000     203.000000    2.030800e+05  2.026345e+05   \n",
              "max     43646.000000     272.000000    2.373711e+06  2.415841e+06   \n",
              "\n",
              "            PROD_NBR       PROD_QTY      TOT_SALES  \n",
              "count  252591.000000  252591.000000  252591.000000  \n",
              "mean       56.461616       1.907416       7.266076  \n",
              "std        33.525777       0.654648       3.066758  \n",
              "min         1.000000       1.000000       1.700000  \n",
              "25%        27.000000       2.000000       5.400000  \n",
              "50%        53.000000       2.000000       7.400000  \n",
              "75%        87.000000       2.000000       8.800000  \n",
              "max       114.000000     200.000000     650.000000  "
            ]
          },
          "metadata": {
            "tags": []
          },
          "execution_count": 145
        }
      ]
    },
    {
      "cell_type": "code",
      "metadata": {
        "colab": {
          "base_uri": "https://localhost:8080/",
          "height": 204
        },
        "id": "Da9A6hAfqgX9",
        "outputId": "c7c7f0e4-5b11-4451-fbff-2639d35d36c2"
      },
      "source": [
        "#Using datetime library to convert the date in the standard format \n",
        "from datetime import datetime \n",
        "def convert_to_datetime(n):\n",
        "    dt = datetime.fromordinal(datetime(1900,1,1).toordinal() + n - 2)\n",
        "    return dt\n",
        "\n",
        "#Convert dates to form YYYY-MM-DD\n",
        "fold_off_salsa['DATE'] = fold_off_salsa['DATE'].apply(convert_to_datetime)\n",
        "fold_off_salsa.head()"
      ],
      "execution_count": 146,
      "outputs": [
        {
          "output_type": "execute_result",
          "data": {
            "text/html": [
              "<div>\n",
              "<style scoped>\n",
              "    .dataframe tbody tr th:only-of-type {\n",
              "        vertical-align: middle;\n",
              "    }\n",
              "\n",
              "    .dataframe tbody tr th {\n",
              "        vertical-align: top;\n",
              "    }\n",
              "\n",
              "    .dataframe thead th {\n",
              "        text-align: right;\n",
              "    }\n",
              "</style>\n",
              "<table border=\"1\" class=\"dataframe\">\n",
              "  <thead>\n",
              "    <tr style=\"text-align: right;\">\n",
              "      <th></th>\n",
              "      <th>DATE</th>\n",
              "      <th>STORE_NBR</th>\n",
              "      <th>LYLTY_CARD_NBR</th>\n",
              "      <th>TXN_ID</th>\n",
              "      <th>PROD_NBR</th>\n",
              "      <th>PROD_NAME</th>\n",
              "      <th>PROD_QTY</th>\n",
              "      <th>TOT_SALES</th>\n",
              "      <th>BRAND_NAME</th>\n",
              "      <th>PACK_SIZE</th>\n",
              "    </tr>\n",
              "  </thead>\n",
              "  <tbody>\n",
              "    <tr>\n",
              "      <th>0</th>\n",
              "      <td>2018-10-17</td>\n",
              "      <td>1</td>\n",
              "      <td>1000</td>\n",
              "      <td>1</td>\n",
              "      <td>5</td>\n",
              "      <td>Natural Chip        Compny SeaSalt 175g</td>\n",
              "      <td>2</td>\n",
              "      <td>6.0</td>\n",
              "      <td>Natural</td>\n",
              "      <td>175</td>\n",
              "    </tr>\n",
              "    <tr>\n",
              "      <th>1</th>\n",
              "      <td>2019-05-14</td>\n",
              "      <td>1</td>\n",
              "      <td>1307</td>\n",
              "      <td>348</td>\n",
              "      <td>66</td>\n",
              "      <td>CCs Nacho Cheese    175g</td>\n",
              "      <td>3</td>\n",
              "      <td>6.3</td>\n",
              "      <td>CCs</td>\n",
              "      <td>175</td>\n",
              "    </tr>\n",
              "    <tr>\n",
              "      <th>2</th>\n",
              "      <td>2019-05-20</td>\n",
              "      <td>1</td>\n",
              "      <td>1343</td>\n",
              "      <td>383</td>\n",
              "      <td>61</td>\n",
              "      <td>Smiths Crinkle Cut  Chips Chicken 170g</td>\n",
              "      <td>2</td>\n",
              "      <td>2.9</td>\n",
              "      <td>Smiths</td>\n",
              "      <td>170</td>\n",
              "    </tr>\n",
              "    <tr>\n",
              "      <th>3</th>\n",
              "      <td>2018-08-17</td>\n",
              "      <td>2</td>\n",
              "      <td>2373</td>\n",
              "      <td>974</td>\n",
              "      <td>69</td>\n",
              "      <td>Smiths Chip Thinly  S/Cream&amp;Onion 175g</td>\n",
              "      <td>5</td>\n",
              "      <td>15.0</td>\n",
              "      <td>Smiths</td>\n",
              "      <td>175</td>\n",
              "    </tr>\n",
              "    <tr>\n",
              "      <th>4</th>\n",
              "      <td>2018-08-18</td>\n",
              "      <td>2</td>\n",
              "      <td>2426</td>\n",
              "      <td>1038</td>\n",
              "      <td>108</td>\n",
              "      <td>Kettle Tortilla ChpsHny&amp;Jlpno Chili 150g</td>\n",
              "      <td>3</td>\n",
              "      <td>13.8</td>\n",
              "      <td>Kettle</td>\n",
              "      <td>150</td>\n",
              "    </tr>\n",
              "  </tbody>\n",
              "</table>\n",
              "</div>"
            ],
            "text/plain": [
              "        DATE  STORE_NBR  LYLTY_CARD_NBR  TXN_ID  PROD_NBR  \\\n",
              "0 2018-10-17          1            1000       1         5   \n",
              "1 2019-05-14          1            1307     348        66   \n",
              "2 2019-05-20          1            1343     383        61   \n",
              "3 2018-08-17          2            2373     974        69   \n",
              "4 2018-08-18          2            2426    1038       108   \n",
              "\n",
              "                                  PROD_NAME  PROD_QTY  TOT_SALES BRAND_NAME  \\\n",
              "0   Natural Chip        Compny SeaSalt 175g         2        6.0    Natural   \n",
              "1                  CCs Nacho Cheese    175g         3        6.3        CCs   \n",
              "2    Smiths Crinkle Cut  Chips Chicken 170g         2        2.9     Smiths   \n",
              "3    Smiths Chip Thinly  S/Cream&Onion 175g         5       15.0     Smiths   \n",
              "4  Kettle Tortilla ChpsHny&Jlpno Chili 150g         3       13.8     Kettle   \n",
              "\n",
              "  PACK_SIZE  \n",
              "0       175  \n",
              "1       175  \n",
              "2       170  \n",
              "3       175  \n",
              "4       150  "
            ]
          },
          "metadata": {
            "tags": []
          },
          "execution_count": 146
        }
      ]
    },
    {
      "cell_type": "code",
      "metadata": {
        "colab": {
          "base_uri": "https://localhost:8080/"
        },
        "id": "tuZ4QicXqgaV",
        "outputId": "ee388e9b-c00c-4f89-afde-e9bf5fbe57cc"
      },
      "source": [
        "fold_off_salsa.dtypes"
      ],
      "execution_count": 147,
      "outputs": [
        {
          "output_type": "execute_result",
          "data": {
            "text/plain": [
              "DATE              datetime64[ns]\n",
              "STORE_NBR                  int64\n",
              "LYLTY_CARD_NBR             int64\n",
              "TXN_ID                     int64\n",
              "PROD_NBR                   int64\n",
              "PROD_NAME                 object\n",
              "PROD_QTY                   int64\n",
              "TOT_SALES                float64\n",
              "BRAND_NAME                object\n",
              "PACK_SIZE                 object\n",
              "dtype: object"
            ]
          },
          "metadata": {
            "tags": []
          },
          "execution_count": 147
        }
      ]
    },
    {
      "cell_type": "code",
      "metadata": {
        "id": "bJHGlwaVqgcn"
      },
      "source": [
        "new_data=fold_off_salsa        #Renaming the fold_off_salsa into new_data in order to have  a name simpler and short."
      ],
      "execution_count": 148,
      "outputs": []
    },
    {
      "cell_type": "code",
      "metadata": {
        "colab": {
          "base_uri": "https://localhost:8080/",
          "height": 204
        },
        "id": "3F6GXwfJqgfg",
        "outputId": "b8cef3e9-c6fe-4f82-918d-c4367365f6e0"
      },
      "source": [
        "new_data.head()"
      ],
      "execution_count": 149,
      "outputs": [
        {
          "output_type": "execute_result",
          "data": {
            "text/html": [
              "<div>\n",
              "<style scoped>\n",
              "    .dataframe tbody tr th:only-of-type {\n",
              "        vertical-align: middle;\n",
              "    }\n",
              "\n",
              "    .dataframe tbody tr th {\n",
              "        vertical-align: top;\n",
              "    }\n",
              "\n",
              "    .dataframe thead th {\n",
              "        text-align: right;\n",
              "    }\n",
              "</style>\n",
              "<table border=\"1\" class=\"dataframe\">\n",
              "  <thead>\n",
              "    <tr style=\"text-align: right;\">\n",
              "      <th></th>\n",
              "      <th>DATE</th>\n",
              "      <th>STORE_NBR</th>\n",
              "      <th>LYLTY_CARD_NBR</th>\n",
              "      <th>TXN_ID</th>\n",
              "      <th>PROD_NBR</th>\n",
              "      <th>PROD_NAME</th>\n",
              "      <th>PROD_QTY</th>\n",
              "      <th>TOT_SALES</th>\n",
              "      <th>BRAND_NAME</th>\n",
              "      <th>PACK_SIZE</th>\n",
              "    </tr>\n",
              "  </thead>\n",
              "  <tbody>\n",
              "    <tr>\n",
              "      <th>0</th>\n",
              "      <td>2018-10-17</td>\n",
              "      <td>1</td>\n",
              "      <td>1000</td>\n",
              "      <td>1</td>\n",
              "      <td>5</td>\n",
              "      <td>Natural Chip        Compny SeaSalt 175g</td>\n",
              "      <td>2</td>\n",
              "      <td>6.0</td>\n",
              "      <td>Natural</td>\n",
              "      <td>175</td>\n",
              "    </tr>\n",
              "    <tr>\n",
              "      <th>1</th>\n",
              "      <td>2019-05-14</td>\n",
              "      <td>1</td>\n",
              "      <td>1307</td>\n",
              "      <td>348</td>\n",
              "      <td>66</td>\n",
              "      <td>CCs Nacho Cheese    175g</td>\n",
              "      <td>3</td>\n",
              "      <td>6.3</td>\n",
              "      <td>CCs</td>\n",
              "      <td>175</td>\n",
              "    </tr>\n",
              "    <tr>\n",
              "      <th>2</th>\n",
              "      <td>2019-05-20</td>\n",
              "      <td>1</td>\n",
              "      <td>1343</td>\n",
              "      <td>383</td>\n",
              "      <td>61</td>\n",
              "      <td>Smiths Crinkle Cut  Chips Chicken 170g</td>\n",
              "      <td>2</td>\n",
              "      <td>2.9</td>\n",
              "      <td>Smiths</td>\n",
              "      <td>170</td>\n",
              "    </tr>\n",
              "    <tr>\n",
              "      <th>3</th>\n",
              "      <td>2018-08-17</td>\n",
              "      <td>2</td>\n",
              "      <td>2373</td>\n",
              "      <td>974</td>\n",
              "      <td>69</td>\n",
              "      <td>Smiths Chip Thinly  S/Cream&amp;Onion 175g</td>\n",
              "      <td>5</td>\n",
              "      <td>15.0</td>\n",
              "      <td>Smiths</td>\n",
              "      <td>175</td>\n",
              "    </tr>\n",
              "    <tr>\n",
              "      <th>4</th>\n",
              "      <td>2018-08-18</td>\n",
              "      <td>2</td>\n",
              "      <td>2426</td>\n",
              "      <td>1038</td>\n",
              "      <td>108</td>\n",
              "      <td>Kettle Tortilla ChpsHny&amp;Jlpno Chili 150g</td>\n",
              "      <td>3</td>\n",
              "      <td>13.8</td>\n",
              "      <td>Kettle</td>\n",
              "      <td>150</td>\n",
              "    </tr>\n",
              "  </tbody>\n",
              "</table>\n",
              "</div>"
            ],
            "text/plain": [
              "        DATE  STORE_NBR  LYLTY_CARD_NBR  TXN_ID  PROD_NBR  \\\n",
              "0 2018-10-17          1            1000       1         5   \n",
              "1 2019-05-14          1            1307     348        66   \n",
              "2 2019-05-20          1            1343     383        61   \n",
              "3 2018-08-17          2            2373     974        69   \n",
              "4 2018-08-18          2            2426    1038       108   \n",
              "\n",
              "                                  PROD_NAME  PROD_QTY  TOT_SALES BRAND_NAME  \\\n",
              "0   Natural Chip        Compny SeaSalt 175g         2        6.0    Natural   \n",
              "1                  CCs Nacho Cheese    175g         3        6.3        CCs   \n",
              "2    Smiths Crinkle Cut  Chips Chicken 170g         2        2.9     Smiths   \n",
              "3    Smiths Chip Thinly  S/Cream&Onion 175g         5       15.0     Smiths   \n",
              "4  Kettle Tortilla ChpsHny&Jlpno Chili 150g         3       13.8     Kettle   \n",
              "\n",
              "  PACK_SIZE  \n",
              "0       175  \n",
              "1       175  \n",
              "2       170  \n",
              "3       175  \n",
              "4       150  "
            ]
          },
          "metadata": {
            "tags": []
          },
          "execution_count": 149
        }
      ]
    },
    {
      "cell_type": "code",
      "metadata": {
        "id": "qWD5LlO_Tnae"
      },
      "source": [
        "#Calculating Unit_Price for each entry and loading them to other new column for better analysis and plots.\n",
        "new_data['UNIT_PRICE']=new_data['TOT_SALES']/new_data['PROD_QTY'] "
      ],
      "execution_count": 150,
      "outputs": []
    },
    {
      "cell_type": "code",
      "metadata": {
        "colab": {
          "base_uri": "https://localhost:8080/",
          "height": 204
        },
        "id": "8FCxm7HeTrVF",
        "outputId": "735b8452-9a01-491a-c386-857dea988a8c"
      },
      "source": [
        "new_data.head()"
      ],
      "execution_count": 151,
      "outputs": [
        {
          "output_type": "execute_result",
          "data": {
            "text/html": [
              "<div>\n",
              "<style scoped>\n",
              "    .dataframe tbody tr th:only-of-type {\n",
              "        vertical-align: middle;\n",
              "    }\n",
              "\n",
              "    .dataframe tbody tr th {\n",
              "        vertical-align: top;\n",
              "    }\n",
              "\n",
              "    .dataframe thead th {\n",
              "        text-align: right;\n",
              "    }\n",
              "</style>\n",
              "<table border=\"1\" class=\"dataframe\">\n",
              "  <thead>\n",
              "    <tr style=\"text-align: right;\">\n",
              "      <th></th>\n",
              "      <th>DATE</th>\n",
              "      <th>STORE_NBR</th>\n",
              "      <th>LYLTY_CARD_NBR</th>\n",
              "      <th>TXN_ID</th>\n",
              "      <th>PROD_NBR</th>\n",
              "      <th>PROD_NAME</th>\n",
              "      <th>PROD_QTY</th>\n",
              "      <th>TOT_SALES</th>\n",
              "      <th>BRAND_NAME</th>\n",
              "      <th>PACK_SIZE</th>\n",
              "      <th>UNIT_PRICE</th>\n",
              "    </tr>\n",
              "  </thead>\n",
              "  <tbody>\n",
              "    <tr>\n",
              "      <th>0</th>\n",
              "      <td>2018-10-17</td>\n",
              "      <td>1</td>\n",
              "      <td>1000</td>\n",
              "      <td>1</td>\n",
              "      <td>5</td>\n",
              "      <td>Natural Chip        Compny SeaSalt 175g</td>\n",
              "      <td>2</td>\n",
              "      <td>6.0</td>\n",
              "      <td>Natural</td>\n",
              "      <td>175</td>\n",
              "      <td>3.00</td>\n",
              "    </tr>\n",
              "    <tr>\n",
              "      <th>1</th>\n",
              "      <td>2019-05-14</td>\n",
              "      <td>1</td>\n",
              "      <td>1307</td>\n",
              "      <td>348</td>\n",
              "      <td>66</td>\n",
              "      <td>CCs Nacho Cheese    175g</td>\n",
              "      <td>3</td>\n",
              "      <td>6.3</td>\n",
              "      <td>CCs</td>\n",
              "      <td>175</td>\n",
              "      <td>2.10</td>\n",
              "    </tr>\n",
              "    <tr>\n",
              "      <th>2</th>\n",
              "      <td>2019-05-20</td>\n",
              "      <td>1</td>\n",
              "      <td>1343</td>\n",
              "      <td>383</td>\n",
              "      <td>61</td>\n",
              "      <td>Smiths Crinkle Cut  Chips Chicken 170g</td>\n",
              "      <td>2</td>\n",
              "      <td>2.9</td>\n",
              "      <td>Smiths</td>\n",
              "      <td>170</td>\n",
              "      <td>1.45</td>\n",
              "    </tr>\n",
              "    <tr>\n",
              "      <th>3</th>\n",
              "      <td>2018-08-17</td>\n",
              "      <td>2</td>\n",
              "      <td>2373</td>\n",
              "      <td>974</td>\n",
              "      <td>69</td>\n",
              "      <td>Smiths Chip Thinly  S/Cream&amp;Onion 175g</td>\n",
              "      <td>5</td>\n",
              "      <td>15.0</td>\n",
              "      <td>Smiths</td>\n",
              "      <td>175</td>\n",
              "      <td>3.00</td>\n",
              "    </tr>\n",
              "    <tr>\n",
              "      <th>4</th>\n",
              "      <td>2018-08-18</td>\n",
              "      <td>2</td>\n",
              "      <td>2426</td>\n",
              "      <td>1038</td>\n",
              "      <td>108</td>\n",
              "      <td>Kettle Tortilla ChpsHny&amp;Jlpno Chili 150g</td>\n",
              "      <td>3</td>\n",
              "      <td>13.8</td>\n",
              "      <td>Kettle</td>\n",
              "      <td>150</td>\n",
              "      <td>4.60</td>\n",
              "    </tr>\n",
              "  </tbody>\n",
              "</table>\n",
              "</div>"
            ],
            "text/plain": [
              "        DATE  STORE_NBR  LYLTY_CARD_NBR  TXN_ID  PROD_NBR  \\\n",
              "0 2018-10-17          1            1000       1         5   \n",
              "1 2019-05-14          1            1307     348        66   \n",
              "2 2019-05-20          1            1343     383        61   \n",
              "3 2018-08-17          2            2373     974        69   \n",
              "4 2018-08-18          2            2426    1038       108   \n",
              "\n",
              "                                  PROD_NAME  PROD_QTY  TOT_SALES BRAND_NAME  \\\n",
              "0   Natural Chip        Compny SeaSalt 175g         2        6.0    Natural   \n",
              "1                  CCs Nacho Cheese    175g         3        6.3        CCs   \n",
              "2    Smiths Crinkle Cut  Chips Chicken 170g         2        2.9     Smiths   \n",
              "3    Smiths Chip Thinly  S/Cream&Onion 175g         5       15.0     Smiths   \n",
              "4  Kettle Tortilla ChpsHny&Jlpno Chili 150g         3       13.8     Kettle   \n",
              "\n",
              "  PACK_SIZE  UNIT_PRICE  \n",
              "0       175        3.00  \n",
              "1       175        2.10  \n",
              "2       170        1.45  \n",
              "3       175        3.00  \n",
              "4       150        4.60  "
            ]
          },
          "metadata": {
            "tags": []
          },
          "execution_count": 151
        }
      ]
    },
    {
      "cell_type": "code",
      "metadata": {
        "id": "wWGTF_ZHtIs9",
        "colab": {
          "base_uri": "https://localhost:8080/",
          "height": 351
        },
        "outputId": "1283b89f-6c80-4e95-d8a4-d25fabd905f9"
      },
      "source": [
        "sns.distplot(new_data['UNIT_PRICE'],color='red')"
      ],
      "execution_count": 152,
      "outputs": [
        {
          "output_type": "stream",
          "text": [
            "/usr/local/lib/python3.7/dist-packages/seaborn/distributions.py:2557: FutureWarning: `distplot` is a deprecated function and will be removed in a future version. Please adapt your code to use either `displot` (a figure-level function with similar flexibility) or `histplot` (an axes-level function for histograms).\n",
            "  warnings.warn(msg, FutureWarning)\n"
          ],
          "name": "stderr"
        },
        {
          "output_type": "execute_result",
          "data": {
            "text/plain": [
              "<matplotlib.axes._subplots.AxesSubplot at 0x7fde679a4b90>"
            ]
          },
          "metadata": {
            "tags": []
          },
          "execution_count": 152
        },
        {
          "output_type": "display_data",
          "data": {
            "image/png": "[encoded data removed]",
            "text/plain": [
              "<Figure size 432x288 with 1 Axes>"
            ]
          },
          "metadata": {
            "tags": [],
            "needs_background": "light"
          }
        }
      ]
    },
    {
      "cell_type": "code",
      "metadata": {
        "id": "sRZcsbMt1fBm"
      },
      "source": [
        "new_data['D_MONTH']=new_data['DATE'].dt.month     #Extracting the month ,year and date from the date column\n",
        "new_data['D_YEAR']=new_data['DATE'].dt.year\n",
        "new_data['D_DAY']=new_data['DATE'].dt.day"
      ],
      "execution_count": 153,
      "outputs": []
    },
    {
      "cell_type": "code",
      "metadata": {
        "id": "9yZt8NBFHsgo"
      },
      "source": [
        "list={1:'Jan',2:'Feb',3:'Mar',4:'Apr',5:'May',6:'June',7:'July',8:'Aug',9:'Sep',10:'Oct',11:'Nov',12:'Dec'}   #Simple Converting the month number to monh name using map\n",
        "new_data['D_MONTH_NAME']=new_data['D_MONTH'].map(list)"
      ],
      "execution_count": 154,
      "outputs": []
    },
    {
      "cell_type": "code",
      "metadata": {
        "id": "rt908B4wJrxr"
      },
      "source": [
        "new_data=new_data.drop('D_MONTH',axis=1)  #dropping uncessary month number column now"
      ],
      "execution_count": 155,
      "outputs": []
    },
    {
      "cell_type": "code",
      "metadata": {
        "colab": {
          "base_uri": "https://localhost:8080/",
          "height": 357
        },
        "id": "NS9UIJbv206Q",
        "outputId": "7bd40f82-8b2b-47be-f7a6-f01b26bbe722"
      },
      "source": [
        "new_data.head()"
      ],
      "execution_count": 156,
      "outputs": [
        {
          "output_type": "execute_result",
          "data": {
            "text/html": [
              "<div>\n",
              "<style scoped>\n",
              "    .dataframe tbody tr th:only-of-type {\n",
              "        vertical-align: middle;\n",
              "    }\n",
              "\n",
              "    .dataframe tbody tr th {\n",
              "        vertical-align: top;\n",
              "    }\n",
              "\n",
              "    .dataframe thead th {\n",
              "        text-align: right;\n",
              "    }\n",
              "</style>\n",
              "<table border=\"1\" class=\"dataframe\">\n",
              "  <thead>\n",
              "    <tr style=\"text-align: right;\">\n",
              "      <th></th>\n",
              "      <th>DATE</th>\n",
              "      <th>STORE_NBR</th>\n",
              "      <th>LYLTY_CARD_NBR</th>\n",
              "      <th>TXN_ID</th>\n",
              "      <th>PROD_NBR</th>\n",
              "      <th>PROD_NAME</th>\n",
              "      <th>PROD_QTY</th>\n",
              "      <th>TOT_SALES</th>\n",
              "      <th>BRAND_NAME</th>\n",
              "      <th>PACK_SIZE</th>\n",
              "      <th>UNIT_PRICE</th>\n",
              "      <th>D_YEAR</th>\n",
              "      <th>D_DAY</th>\n",
              "      <th>D_MONTH_NAME</th>\n",
              "    </tr>\n",
              "  </thead>\n",
              "  <tbody>\n",
              "    <tr>\n",
              "      <th>0</th>\n",
              "      <td>2018-10-17</td>\n",
              "      <td>1</td>\n",
              "      <td>1000</td>\n",
              "      <td>1</td>\n",
              "      <td>5</td>\n",
              "      <td>Natural Chip        Compny SeaSalt 175g</td>\n",
              "      <td>2</td>\n",
              "      <td>6.0</td>\n",
              "      <td>Natural</td>\n",
              "      <td>175</td>\n",
              "      <td>3.00</td>\n",
              "      <td>2018</td>\n",
              "      <td>17</td>\n",
              "      <td>Oct</td>\n",
              "    </tr>\n",
              "    <tr>\n",
              "      <th>1</th>\n",
              "      <td>2019-05-14</td>\n",
              "      <td>1</td>\n",
              "      <td>1307</td>\n",
              "      <td>348</td>\n",
              "      <td>66</td>\n",
              "      <td>CCs Nacho Cheese    175g</td>\n",
              "      <td>3</td>\n",
              "      <td>6.3</td>\n",
              "      <td>CCs</td>\n",
              "      <td>175</td>\n",
              "      <td>2.10</td>\n",
              "      <td>2019</td>\n",
              "      <td>14</td>\n",
              "      <td>May</td>\n",
              "    </tr>\n",
              "    <tr>\n",
              "      <th>2</th>\n",
              "      <td>2019-05-20</td>\n",
              "      <td>1</td>\n",
              "      <td>1343</td>\n",
              "      <td>383</td>\n",
              "      <td>61</td>\n",
              "      <td>Smiths Crinkle Cut  Chips Chicken 170g</td>\n",
              "      <td>2</td>\n",
              "      <td>2.9</td>\n",
              "      <td>Smiths</td>\n",
              "      <td>170</td>\n",
              "      <td>1.45</td>\n",
              "      <td>2019</td>\n",
              "      <td>20</td>\n",
              "      <td>May</td>\n",
              "    </tr>\n",
              "    <tr>\n",
              "      <th>3</th>\n",
              "      <td>2018-08-17</td>\n",
              "      <td>2</td>\n",
              "      <td>2373</td>\n",
              "      <td>974</td>\n",
              "      <td>69</td>\n",
              "      <td>Smiths Chip Thinly  S/Cream&amp;Onion 175g</td>\n",
              "      <td>5</td>\n",
              "      <td>15.0</td>\n",
              "      <td>Smiths</td>\n",
              "      <td>175</td>\n",
              "      <td>3.00</td>\n",
              "      <td>2018</td>\n",
              "      <td>17</td>\n",
              "      <td>Aug</td>\n",
              "    </tr>\n",
              "    <tr>\n",
              "      <th>4</th>\n",
              "      <td>2018-08-18</td>\n",
              "      <td>2</td>\n",
              "      <td>2426</td>\n",
              "      <td>1038</td>\n",
              "      <td>108</td>\n",
              "      <td>Kettle Tortilla ChpsHny&amp;Jlpno Chili 150g</td>\n",
              "      <td>3</td>\n",
              "      <td>13.8</td>\n",
              "      <td>Kettle</td>\n",
              "      <td>150</td>\n",
              "      <td>4.60</td>\n",
              "      <td>2018</td>\n",
              "      <td>18</td>\n",
              "      <td>Aug</td>\n",
              "    </tr>\n",
              "  </tbody>\n",
              "</table>\n",
              "</div>"
            ],
            "text/plain": [
              "        DATE  STORE_NBR  LYLTY_CARD_NBR  TXN_ID  PROD_NBR  \\\n",
              "0 2018-10-17          1            1000       1         5   \n",
              "1 2019-05-14          1            1307     348        66   \n",
              "2 2019-05-20          1            1343     383        61   \n",
              "3 2018-08-17          2            2373     974        69   \n",
              "4 2018-08-18          2            2426    1038       108   \n",
              "\n",
              "                                  PROD_NAME  PROD_QTY  TOT_SALES BRAND_NAME  \\\n",
              "0   Natural Chip        Compny SeaSalt 175g         2        6.0    Natural   \n",
              "1                  CCs Nacho Cheese    175g         3        6.3        CCs   \n",
              "2    Smiths Crinkle Cut  Chips Chicken 170g         2        2.9     Smiths   \n",
              "3    Smiths Chip Thinly  S/Cream&Onion 175g         5       15.0     Smiths   \n",
              "4  Kettle Tortilla ChpsHny&Jlpno Chili 150g         3       13.8     Kettle   \n",
              "\n",
              "  PACK_SIZE  UNIT_PRICE  D_YEAR  D_DAY D_MONTH_NAME  \n",
              "0       175        3.00    2018     17          Oct  \n",
              "1       175        2.10    2019     14          May  \n",
              "2       170        1.45    2019     20          May  \n",
              "3       175        3.00    2018     17          Aug  \n",
              "4       150        4.60    2018     18          Aug  "
            ]
          },
          "metadata": {
            "tags": []
          },
          "execution_count": 156
        }
      ]
    },
    {
      "cell_type": "code",
      "metadata": {
        "colab": {
          "base_uri": "https://localhost:8080/"
        },
        "id": "GoOu1NwRS4Bi",
        "outputId": "c4af4ae5-de03-495d-d166-035925e45b1c"
      },
      "source": [
        "new_data.shape"
      ],
      "execution_count": 157,
      "outputs": [
        {
          "output_type": "execute_result",
          "data": {
            "text/plain": [
              "(252591, 14)"
            ]
          },
          "metadata": {
            "tags": []
          },
          "execution_count": 157
        }
      ]
    },
    {
      "cell_type": "code",
      "metadata": {
        "colab": {
          "base_uri": "https://localhost:8080/",
          "height": 389
        },
        "id": "eYvlPotPJ4me",
        "outputId": "eef8f627-2479-4589-dfd7-9584356a20ff"
      },
      "source": [
        "myplot.figure(figsize=(10,6))               #Bar Plot \n",
        "ax = sns.barplot(y=\"D_MONTH_NAME\", x=\"TOT_SALES\", data=new_data,palette=\"Spectral_r\")"
      ],
      "execution_count": 158,
      "outputs": [
        {
          "output_type": "display_data",
          "data": {
            "image/png": "[encoded data removed]",
            "text/plain": [
              "<Figure size 720x432 with 1 Axes>"
            ]
          },
          "metadata": {
            "tags": [],
            "needs_background": "light"
          }
        }
      ]
    },
    {
      "cell_type": "markdown",
      "metadata": {
        "id": "sJX9HAwRMUWA"
      },
      "source": [
        "**The above bar plot is between the months and the total sales of the chips ,through this plot we can say that the month type really doesn't affect the sale of chips though according to the plot the sales were least in the month of may and august.**"
      ]
    },
    {
      "cell_type": "code",
      "metadata": {
        "id": "oRbXAkO4tIuq",
        "colab": {
          "base_uri": "https://localhost:8080/",
          "height": 282
        },
        "outputId": "5c302620-9197-4880-d5b3-b515f95082c8"
      },
      "source": [
        "new_data['PROD_NBR'].hist(color=\"skyblue\")"
      ],
      "execution_count": 192,
      "outputs": [
        {
          "output_type": "execute_result",
          "data": {
            "text/plain": [
              "<matplotlib.axes._subplots.AxesSubplot at 0x7fde692176d0>"
            ]
          },
          "metadata": {
            "tags": []
          },
          "execution_count": 192
        },
        {
          "output_type": "display_data",
          "data": {
            "image/png": "[encoded data removed]",
            "text/plain": [
              "<Figure size 432x288 with 1 Axes>"
            ]
          },
          "metadata": {
            "tags": [],
            "needs_background": "light"
          }
        }
      ]
    },
    {
      "cell_type": "code",
      "metadata": {
        "id": "v9hay1-9tVUo",
        "colab": {
          "base_uri": "https://localhost:8080/",
          "height": 714
        },
        "outputId": "5a3afe72-ddf4-4b4d-def1-0721408c5cbc"
      },
      "source": [
        "fig,ax=myplot.subplots(figsize=(32,16))\n",
        "sns.countplot(new_data['BRAND_NAME'],palette='viridis')\n",
        "myplot.title(\"Transactions of all Brand\")\n",
        "myplot.ylabel(\"TRANSACTIONS\")"
      ],
      "execution_count": 160,
      "outputs": [
        {
          "output_type": "stream",
          "text": [
            "/usr/local/lib/python3.7/dist-packages/seaborn/_decorators.py:43: FutureWarning: Pass the following variable as a keyword arg: x. From version 0.12, the only valid positional argument will be `data`, and passing other arguments without an explicit keyword will result in an error or misinterpretation.\n",
            "  FutureWarning\n"
          ],
          "name": "stderr"
        },
        {
          "output_type": "execute_result",
          "data": {
            "text/plain": [
              "Text(0, 0.5, 'TRANSACTIONS')"
            ]
          },
          "metadata": {
            "tags": []
          },
          "execution_count": 160
        },
        {
          "output_type": "display_data",
          "data": {
            "image/png": "[encoded data removed]",
            "text/plain": [
              "<Figure size 2304x1152 with 1 Axes>"
            ]
          },
          "metadata": {
            "tags": [],
            "needs_background": "light"
          }
        }
      ]
    },
    {
      "cell_type": "markdown",
      "metadata": {
        "id": "NpbKqeGQ_MFp"
      },
      "source": [
        "The above Plot is a CountPlot  of BRAND_NAMEs giving their contibution towards the total transaction.\n",
        "Clearly, Kettle has the maximum contribution.\n",
        "NCC has least in the given data as shown in the plot."
      ]
    },
    {
      "cell_type": "markdown",
      "metadata": {
        "id": "zLe8-yUiQQ-U"
      },
      "source": [
        "The below average performers i.e. the companies who have sells less than 50 % are more in the data and few companies are top performers \n",
        "due to better taste(flavour) ,pack_size and affodability "
      ]
    },
    {
      "cell_type": "code",
      "metadata": {
        "id": "yT_6a8iatVW1",
        "colab": {
          "base_uri": "https://localhost:8080/",
          "height": 474
        },
        "outputId": "14dbac16-7c4d-4580-a4d2-c9bb41655db7"
      },
      "source": [
        "fig,ax=myplot.subplots(figsize=(30,20))\n",
        "myplot.subplot(2,1,1)\n",
        "sns.countplot(new_data['PACK_SIZE'],palette=\"muted\")"
      ],
      "execution_count": 161,
      "outputs": [
        {
          "output_type": "stream",
          "text": [
            "/usr/local/lib/python3.7/dist-packages/seaborn/_decorators.py:43: FutureWarning: Pass the following variable as a keyword arg: x. From version 0.12, the only valid positional argument will be `data`, and passing other arguments without an explicit keyword will result in an error or misinterpretation.\n",
            "  FutureWarning\n"
          ],
          "name": "stderr"
        },
        {
          "output_type": "execute_result",
          "data": {
            "text/plain": [
              "<matplotlib.axes._subplots.AxesSubplot at 0x7fde698f12d0>"
            ]
          },
          "metadata": {
            "tags": []
          },
          "execution_count": 161
        },
        {
          "output_type": "display_data",
          "data": {
            "image/png": "[encoded data removed]",
            "text/plain": [
              "<Figure size 2160x1440 with 1 Axes>"
            ]
          },
          "metadata": {
            "tags": [],
            "needs_background": "light"
          }
        }
      ]
    },
    {
      "cell_type": "markdown",
      "metadata": {
        "id": "wBQOi-M99jK0"
      },
      "source": [
        "From the above plot ,It  is clear that the pack_size of 175 g is maximun sold  i.e, It has sufficient quantity to satisfy one person once bought\n",
        "and the packs of 220g , 125g , 70g are least sold."
      ]
    },
    {
      "cell_type": "markdown",
      "metadata": {
        "id": "4le4SDS3JSdX"
      },
      "source": [
        "**PURCHASE BEHAVIOR DATA**"
      ]
    },
    {
      "cell_type": "code",
      "metadata": {
        "id": "aeVPJJ4EtVZs",
        "colab": {
          "base_uri": "https://localhost:8080/",
          "height": 204
        },
        "outputId": "23cc005e-b86a-4b8f-f01b-990ba0a75f83"
      },
      "source": [
        "mydata=pd.read_csv('/content/drive/MyDrive/QUANTIUM/QVI_purchase_behaviour.csv')\n",
        "mydata.head()"
      ],
      "execution_count": 162,
      "outputs": [
        {
          "output_type": "execute_result",
          "data": {
            "text/html": [
              "<div>\n",
              "<style scoped>\n",
              "    .dataframe tbody tr th:only-of-type {\n",
              "        vertical-align: middle;\n",
              "    }\n",
              "\n",
              "    .dataframe tbody tr th {\n",
              "        vertical-align: top;\n",
              "    }\n",
              "\n",
              "    .dataframe thead th {\n",
              "        text-align: right;\n",
              "    }\n",
              "</style>\n",
              "<table border=\"1\" class=\"dataframe\">\n",
              "  <thead>\n",
              "    <tr style=\"text-align: right;\">\n",
              "      <th></th>\n",
              "      <th>LYLTY_CARD_NBR</th>\n",
              "      <th>LIFESTAGE</th>\n",
              "      <th>PREMIUM_CUSTOMER</th>\n",
              "    </tr>\n",
              "  </thead>\n",
              "  <tbody>\n",
              "    <tr>\n",
              "      <th>0</th>\n",
              "      <td>1000</td>\n",
              "      <td>YOUNG SINGLES/COUPLES</td>\n",
              "      <td>Premium</td>\n",
              "    </tr>\n",
              "    <tr>\n",
              "      <th>1</th>\n",
              "      <td>1002</td>\n",
              "      <td>YOUNG SINGLES/COUPLES</td>\n",
              "      <td>Mainstream</td>\n",
              "    </tr>\n",
              "    <tr>\n",
              "      <th>2</th>\n",
              "      <td>1003</td>\n",
              "      <td>YOUNG FAMILIES</td>\n",
              "      <td>Budget</td>\n",
              "    </tr>\n",
              "    <tr>\n",
              "      <th>3</th>\n",
              "      <td>1004</td>\n",
              "      <td>OLDER SINGLES/COUPLES</td>\n",
              "      <td>Mainstream</td>\n",
              "    </tr>\n",
              "    <tr>\n",
              "      <th>4</th>\n",
              "      <td>1005</td>\n",
              "      <td>MIDAGE SINGLES/COUPLES</td>\n",
              "      <td>Mainstream</td>\n",
              "    </tr>\n",
              "  </tbody>\n",
              "</table>\n",
              "</div>"
            ],
            "text/plain": [
              "   LYLTY_CARD_NBR               LIFESTAGE PREMIUM_CUSTOMER\n",
              "0            1000   YOUNG SINGLES/COUPLES          Premium\n",
              "1            1002   YOUNG SINGLES/COUPLES       Mainstream\n",
              "2            1003          YOUNG FAMILIES           Budget\n",
              "3            1004   OLDER SINGLES/COUPLES       Mainstream\n",
              "4            1005  MIDAGE SINGLES/COUPLES       Mainstream"
            ]
          },
          "metadata": {
            "tags": []
          },
          "execution_count": 162
        }
      ]
    },
    {
      "cell_type": "code",
      "metadata": {
        "id": "8LiT5oUbtVbz",
        "colab": {
          "base_uri": "https://localhost:8080/"
        },
        "outputId": "72f83b68-83a5-4c09-a00f-75a9f9513f0c"
      },
      "source": [
        "mydata['PREMIUM_CUSTOMER'].unique()   #To extract unique values in the column"
      ],
      "execution_count": 163,
      "outputs": [
        {
          "output_type": "execute_result",
          "data": {
            "text/plain": [
              "array(['Premium', 'Mainstream', 'Budget'], dtype=object)"
            ]
          },
          "metadata": {
            "tags": []
          },
          "execution_count": 163
        }
      ]
    },
    {
      "cell_type": "code",
      "metadata": {
        "id": "7imvoSK-IkMo",
        "colab": {
          "base_uri": "https://localhost:8080/"
        },
        "outputId": "779708bd-842a-4855-842f-41dd2ffb0465"
      },
      "source": [
        "mydata['LIFESTAGE'].unique()     #To extract unique values in the column"
      ],
      "execution_count": 164,
      "outputs": [
        {
          "output_type": "execute_result",
          "data": {
            "text/plain": [
              "array(['YOUNG SINGLES/COUPLES', 'YOUNG FAMILIES', 'OLDER SINGLES/COUPLES',\n",
              "       'MIDAGE SINGLES/COUPLES', 'NEW FAMILIES', 'OLDER FAMILIES',\n",
              "       'RETIREES'], dtype=object)"
            ]
          },
          "metadata": {
            "tags": []
          },
          "execution_count": 164
        }
      ]
    },
    {
      "cell_type": "code",
      "metadata": {
        "id": "kf_t6CDcIkPv",
        "colab": {
          "base_uri": "https://localhost:8080/"
        },
        "outputId": "7f190120-e6bd-4403-e4d2-5e3cb50ac16c"
      },
      "source": [
        "mydata.dtypes"
      ],
      "execution_count": 165,
      "outputs": [
        {
          "output_type": "execute_result",
          "data": {
            "text/plain": [
              "LYLTY_CARD_NBR       int64\n",
              "LIFESTAGE           object\n",
              "PREMIUM_CUSTOMER    object\n",
              "dtype: object"
            ]
          },
          "metadata": {
            "tags": []
          },
          "execution_count": 165
        }
      ]
    },
    {
      "cell_type": "code",
      "metadata": {
        "id": "v6lox8xhIkTA",
        "colab": {
          "base_uri": "https://localhost:8080/"
        },
        "outputId": "c3deaefb-39b7-4ebb-c864-dae26ad2a2df"
      },
      "source": [
        "mydata.isnull().sum()    #no NULL values"
      ],
      "execution_count": 166,
      "outputs": [
        {
          "output_type": "execute_result",
          "data": {
            "text/plain": [
              "LYLTY_CARD_NBR      0\n",
              "LIFESTAGE           0\n",
              "PREMIUM_CUSTOMER    0\n",
              "dtype: int64"
            ]
          },
          "metadata": {
            "tags": []
          },
          "execution_count": 166
        }
      ]
    },
    {
      "cell_type": "code",
      "metadata": {
        "id": "T2chW4CWIkVt",
        "colab": {
          "base_uri": "https://localhost:8080/",
          "height": 470
        },
        "outputId": "601b6ecb-7934-4d41-a157-9319311b86b9"
      },
      "source": [
        "myplot.figure(figsize=(18,7))\n",
        "sns.boxplot(x='LIFESTAGE',y='LYLTY_CARD_NBR',data=mydata.sort_values('LIFESTAGE',ascending=True))"
      ],
      "execution_count": 167,
      "outputs": [
        {
          "output_type": "execute_result",
          "data": {
            "text/plain": [
              "<matplotlib.axes._subplots.AxesSubplot at 0x7fde696dd610>"
            ]
          },
          "metadata": {
            "tags": []
          },
          "execution_count": 167
        },
        {
          "output_type": "display_data",
          "data": {
            "image/png": "[encoded data removed]",
            "text/plain": [
              "<Figure size 1296x504 with 1 Axes>"
            ]
          },
          "metadata": {
            "tags": [],
            "needs_background": "light"
          }
        }
      ]
    },
    {
      "cell_type": "code",
      "metadata": {
        "id": "3t8By33zIkYm",
        "colab": {
          "base_uri": "https://localhost:8080/",
          "height": 204
        },
        "outputId": "dc887971-83a5-48f6-f67f-1d82ce8ca460"
      },
      "source": [
        "mydata.head()"
      ],
      "execution_count": 168,
      "outputs": [
        {
          "output_type": "execute_result",
          "data": {
            "text/html": [
              "<div>\n",
              "<style scoped>\n",
              "    .dataframe tbody tr th:only-of-type {\n",
              "        vertical-align: middle;\n",
              "    }\n",
              "\n",
              "    .dataframe tbody tr th {\n",
              "        vertical-align: top;\n",
              "    }\n",
              "\n",
              "    .dataframe thead th {\n",
              "        text-align: right;\n",
              "    }\n",
              "</style>\n",
              "<table border=\"1\" class=\"dataframe\">\n",
              "  <thead>\n",
              "    <tr style=\"text-align: right;\">\n",
              "      <th></th>\n",
              "      <th>LYLTY_CARD_NBR</th>\n",
              "      <th>LIFESTAGE</th>\n",
              "      <th>PREMIUM_CUSTOMER</th>\n",
              "    </tr>\n",
              "  </thead>\n",
              "  <tbody>\n",
              "    <tr>\n",
              "      <th>0</th>\n",
              "      <td>1000</td>\n",
              "      <td>YOUNG SINGLES/COUPLES</td>\n",
              "      <td>Premium</td>\n",
              "    </tr>\n",
              "    <tr>\n",
              "      <th>1</th>\n",
              "      <td>1002</td>\n",
              "      <td>YOUNG SINGLES/COUPLES</td>\n",
              "      <td>Mainstream</td>\n",
              "    </tr>\n",
              "    <tr>\n",
              "      <th>2</th>\n",
              "      <td>1003</td>\n",
              "      <td>YOUNG FAMILIES</td>\n",
              "      <td>Budget</td>\n",
              "    </tr>\n",
              "    <tr>\n",
              "      <th>3</th>\n",
              "      <td>1004</td>\n",
              "      <td>OLDER SINGLES/COUPLES</td>\n",
              "      <td>Mainstream</td>\n",
              "    </tr>\n",
              "    <tr>\n",
              "      <th>4</th>\n",
              "      <td>1005</td>\n",
              "      <td>MIDAGE SINGLES/COUPLES</td>\n",
              "      <td>Mainstream</td>\n",
              "    </tr>\n",
              "  </tbody>\n",
              "</table>\n",
              "</div>"
            ],
            "text/plain": [
              "   LYLTY_CARD_NBR               LIFESTAGE PREMIUM_CUSTOMER\n",
              "0            1000   YOUNG SINGLES/COUPLES          Premium\n",
              "1            1002   YOUNG SINGLES/COUPLES       Mainstream\n",
              "2            1003          YOUNG FAMILIES           Budget\n",
              "3            1004   OLDER SINGLES/COUPLES       Mainstream\n",
              "4            1005  MIDAGE SINGLES/COUPLES       Mainstream"
            ]
          },
          "metadata": {
            "tags": []
          },
          "execution_count": 168
        }
      ]
    },
    {
      "cell_type": "code",
      "metadata": {
        "id": "2y4_N64fJiyy",
        "colab": {
          "base_uri": "https://localhost:8080/",
          "height": 428
        },
        "outputId": "2d298a13-210b-421b-ed5b-83d9e243481f"
      },
      "source": [
        "fig = myplot.subplots(figsize=(10,7))\n",
        "label=['mainstream','budget','Premium']\n",
        "fbcolor=[\"pink\",\"brown\",\"purple\"]\n",
        "mydata['PREMIUM_CUSTOMER'].value_counts().plot.pie(labels=label,autopct='%1.2f%%',colors=fbcolor)"
      ],
      "execution_count": 169,
      "outputs": [
        {
          "output_type": "execute_result",
          "data": {
            "text/plain": [
              "<matplotlib.axes._subplots.AxesSubplot at 0x7fde695f0f10>"
            ]
          },
          "metadata": {
            "tags": []
          },
          "execution_count": 169
        },
        {
          "output_type": "display_data",
          "data": {
            "image/png": "[encoded data removed]",
            "text/plain": [
              "<Figure size 720x504 with 1 Axes>"
            ]
          },
          "metadata": {
            "tags": []
          }
        }
      ]
    },
    {
      "cell_type": "markdown",
      "metadata": {
        "id": "exTJulzX-hKl"
      },
      "source": [
        "The above plot  is a Pie chart  of PREMIUM_CUSTOMER column \n",
        "It has 3 categories and the maximum customers are mainstream and less than 30% have taken the Premium .\n"
      ]
    },
    {
      "cell_type": "code",
      "metadata": {
        "id": "2JFJhjff-f2k"
      },
      "source": [
        ""
      ],
      "execution_count": 169,
      "outputs": []
    },
    {
      "cell_type": "code",
      "metadata": {
        "id": "ic_nj1entVfL",
        "colab": {
          "base_uri": "https://localhost:8080/",
          "height": 204
        },
        "outputId": "77f34d0f-0816-4238-9af0-e3dfbd9c52b8"
      },
      "source": [
        "data1=pd.get_dummies(data=mydata['LIFESTAGE'])\n",
        "data1.head()"
      ],
      "execution_count": 170,
      "outputs": [
        {
          "output_type": "execute_result",
          "data": {
            "text/html": [
              "<div>\n",
              "<style scoped>\n",
              "    .dataframe tbody tr th:only-of-type {\n",
              "        vertical-align: middle;\n",
              "    }\n",
              "\n",
              "    .dataframe tbody tr th {\n",
              "        vertical-align: top;\n",
              "    }\n",
              "\n",
              "    .dataframe thead th {\n",
              "        text-align: right;\n",
              "    }\n",
              "</style>\n",
              "<table border=\"1\" class=\"dataframe\">\n",
              "  <thead>\n",
              "    <tr style=\"text-align: right;\">\n",
              "      <th></th>\n",
              "      <th>MIDAGE SINGLES/COUPLES</th>\n",
              "      <th>NEW FAMILIES</th>\n",
              "      <th>OLDER FAMILIES</th>\n",
              "      <th>OLDER SINGLES/COUPLES</th>\n",
              "      <th>RETIREES</th>\n",
              "      <th>YOUNG FAMILIES</th>\n",
              "      <th>YOUNG SINGLES/COUPLES</th>\n",
              "    </tr>\n",
              "  </thead>\n",
              "  <tbody>\n",
              "    <tr>\n",
              "      <th>0</th>\n",
              "      <td>0</td>\n",
              "      <td>0</td>\n",
              "      <td>0</td>\n",
              "      <td>0</td>\n",
              "      <td>0</td>\n",
              "      <td>0</td>\n",
              "      <td>1</td>\n",
              "    </tr>\n",
              "    <tr>\n",
              "      <th>1</th>\n",
              "      <td>0</td>\n",
              "      <td>0</td>\n",
              "      <td>0</td>\n",
              "      <td>0</td>\n",
              "      <td>0</td>\n",
              "      <td>0</td>\n",
              "      <td>1</td>\n",
              "    </tr>\n",
              "    <tr>\n",
              "      <th>2</th>\n",
              "      <td>0</td>\n",
              "      <td>0</td>\n",
              "      <td>0</td>\n",
              "      <td>0</td>\n",
              "      <td>0</td>\n",
              "      <td>1</td>\n",
              "      <td>0</td>\n",
              "    </tr>\n",
              "    <tr>\n",
              "      <th>3</th>\n",
              "      <td>0</td>\n",
              "      <td>0</td>\n",
              "      <td>0</td>\n",
              "      <td>1</td>\n",
              "      <td>0</td>\n",
              "      <td>0</td>\n",
              "      <td>0</td>\n",
              "    </tr>\n",
              "    <tr>\n",
              "      <th>4</th>\n",
              "      <td>1</td>\n",
              "      <td>0</td>\n",
              "      <td>0</td>\n",
              "      <td>0</td>\n",
              "      <td>0</td>\n",
              "      <td>0</td>\n",
              "      <td>0</td>\n",
              "    </tr>\n",
              "  </tbody>\n",
              "</table>\n",
              "</div>"
            ],
            "text/plain": [
              "   MIDAGE SINGLES/COUPLES  NEW FAMILIES  OLDER FAMILIES  \\\n",
              "0                       0             0               0   \n",
              "1                       0             0               0   \n",
              "2                       0             0               0   \n",
              "3                       0             0               0   \n",
              "4                       1             0               0   \n",
              "\n",
              "   OLDER SINGLES/COUPLES  RETIREES  YOUNG FAMILIES  YOUNG SINGLES/COUPLES  \n",
              "0                      0         0               0                      1  \n",
              "1                      0         0               0                      1  \n",
              "2                      0         0               1                      0  \n",
              "3                      1         0               0                      0  \n",
              "4                      0         0               0                      0  "
            ]
          },
          "metadata": {
            "tags": []
          },
          "execution_count": 170
        }
      ]
    },
    {
      "cell_type": "code",
      "metadata": {
        "id": "BE7dCfkgI5Vi"
      },
      "source": [
        "from sklearn.preprocessing import LabelEncoder\n",
        "encoder=LabelEncoder()\n",
        "mydata['PREMIUM_CUSTOMER']=encoder.fit_transform(mydata['PREMIUM_CUSTOMER'])"
      ],
      "execution_count": 171,
      "outputs": []
    },
    {
      "cell_type": "code",
      "metadata": {
        "id": "Etsfl0iLI5ci",
        "colab": {
          "base_uri": "https://localhost:8080/",
          "height": 204
        },
        "outputId": "f6c0827c-4afe-4812-f8de-cdc3f331a6b0"
      },
      "source": [
        "mydata.head()"
      ],
      "execution_count": 172,
      "outputs": [
        {
          "output_type": "execute_result",
          "data": {
            "text/html": [
              "<div>\n",
              "<style scoped>\n",
              "    .dataframe tbody tr th:only-of-type {\n",
              "        vertical-align: middle;\n",
              "    }\n",
              "\n",
              "    .dataframe tbody tr th {\n",
              "        vertical-align: top;\n",
              "    }\n",
              "\n",
              "    .dataframe thead th {\n",
              "        text-align: right;\n",
              "    }\n",
              "</style>\n",
              "<table border=\"1\" class=\"dataframe\">\n",
              "  <thead>\n",
              "    <tr style=\"text-align: right;\">\n",
              "      <th></th>\n",
              "      <th>LYLTY_CARD_NBR</th>\n",
              "      <th>LIFESTAGE</th>\n",
              "      <th>PREMIUM_CUSTOMER</th>\n",
              "    </tr>\n",
              "  </thead>\n",
              "  <tbody>\n",
              "    <tr>\n",
              "      <th>0</th>\n",
              "      <td>1000</td>\n",
              "      <td>YOUNG SINGLES/COUPLES</td>\n",
              "      <td>2</td>\n",
              "    </tr>\n",
              "    <tr>\n",
              "      <th>1</th>\n",
              "      <td>1002</td>\n",
              "      <td>YOUNG SINGLES/COUPLES</td>\n",
              "      <td>1</td>\n",
              "    </tr>\n",
              "    <tr>\n",
              "      <th>2</th>\n",
              "      <td>1003</td>\n",
              "      <td>YOUNG FAMILIES</td>\n",
              "      <td>0</td>\n",
              "    </tr>\n",
              "    <tr>\n",
              "      <th>3</th>\n",
              "      <td>1004</td>\n",
              "      <td>OLDER SINGLES/COUPLES</td>\n",
              "      <td>1</td>\n",
              "    </tr>\n",
              "    <tr>\n",
              "      <th>4</th>\n",
              "      <td>1005</td>\n",
              "      <td>MIDAGE SINGLES/COUPLES</td>\n",
              "      <td>1</td>\n",
              "    </tr>\n",
              "  </tbody>\n",
              "</table>\n",
              "</div>"
            ],
            "text/plain": [
              "   LYLTY_CARD_NBR               LIFESTAGE  PREMIUM_CUSTOMER\n",
              "0            1000   YOUNG SINGLES/COUPLES                 2\n",
              "1            1002   YOUNG SINGLES/COUPLES                 1\n",
              "2            1003          YOUNG FAMILIES                 0\n",
              "3            1004   OLDER SINGLES/COUPLES                 1\n",
              "4            1005  MIDAGE SINGLES/COUPLES                 1"
            ]
          },
          "metadata": {
            "tags": []
          },
          "execution_count": 172
        }
      ]
    },
    {
      "cell_type": "code",
      "metadata": {
        "id": "kZfQHVj_I5eo"
      },
      "source": [
        "data=pd.concat([mydata,data1],axis=1)"
      ],
      "execution_count": 173,
      "outputs": []
    },
    {
      "cell_type": "code",
      "metadata": {
        "id": "mE5QZb-gI5hN",
        "colab": {
          "base_uri": "https://localhost:8080/",
          "height": 289
        },
        "outputId": "3001d7cf-985f-4971-bbae-8ebdbc53ea19"
      },
      "source": [
        "pd.set_option('display.max_columns', None)\n",
        "data.head()"
      ],
      "execution_count": 174,
      "outputs": [
        {
          "output_type": "execute_result",
          "data": {
            "text/html": [
              "<div>\n",
              "<style scoped>\n",
              "    .dataframe tbody tr th:only-of-type {\n",
              "        vertical-align: middle;\n",
              "    }\n",
              "\n",
              "    .dataframe tbody tr th {\n",
              "        vertical-align: top;\n",
              "    }\n",
              "\n",
              "    .dataframe thead th {\n",
              "        text-align: right;\n",
              "    }\n",
              "</style>\n",
              "<table border=\"1\" class=\"dataframe\">\n",
              "  <thead>\n",
              "    <tr style=\"text-align: right;\">\n",
              "      <th></th>\n",
              "      <th>LYLTY_CARD_NBR</th>\n",
              "      <th>LIFESTAGE</th>\n",
              "      <th>PREMIUM_CUSTOMER</th>\n",
              "      <th>MIDAGE SINGLES/COUPLES</th>\n",
              "      <th>NEW FAMILIES</th>\n",
              "      <th>OLDER FAMILIES</th>\n",
              "      <th>OLDER SINGLES/COUPLES</th>\n",
              "      <th>RETIREES</th>\n",
              "      <th>YOUNG FAMILIES</th>\n",
              "      <th>YOUNG SINGLES/COUPLES</th>\n",
              "    </tr>\n",
              "  </thead>\n",
              "  <tbody>\n",
              "    <tr>\n",
              "      <th>0</th>\n",
              "      <td>1000</td>\n",
              "      <td>YOUNG SINGLES/COUPLES</td>\n",
              "      <td>2</td>\n",
              "      <td>0</td>\n",
              "      <td>0</td>\n",
              "      <td>0</td>\n",
              "      <td>0</td>\n",
              "      <td>0</td>\n",
              "      <td>0</td>\n",
              "      <td>1</td>\n",
              "    </tr>\n",
              "    <tr>\n",
              "      <th>1</th>\n",
              "      <td>1002</td>\n",
              "      <td>YOUNG SINGLES/COUPLES</td>\n",
              "      <td>1</td>\n",
              "      <td>0</td>\n",
              "      <td>0</td>\n",
              "      <td>0</td>\n",
              "      <td>0</td>\n",
              "      <td>0</td>\n",
              "      <td>0</td>\n",
              "      <td>1</td>\n",
              "    </tr>\n",
              "    <tr>\n",
              "      <th>2</th>\n",
              "      <td>1003</td>\n",
              "      <td>YOUNG FAMILIES</td>\n",
              "      <td>0</td>\n",
              "      <td>0</td>\n",
              "      <td>0</td>\n",
              "      <td>0</td>\n",
              "      <td>0</td>\n",
              "      <td>0</td>\n",
              "      <td>1</td>\n",
              "      <td>0</td>\n",
              "    </tr>\n",
              "    <tr>\n",
              "      <th>3</th>\n",
              "      <td>1004</td>\n",
              "      <td>OLDER SINGLES/COUPLES</td>\n",
              "      <td>1</td>\n",
              "      <td>0</td>\n",
              "      <td>0</td>\n",
              "      <td>0</td>\n",
              "      <td>1</td>\n",
              "      <td>0</td>\n",
              "      <td>0</td>\n",
              "      <td>0</td>\n",
              "    </tr>\n",
              "    <tr>\n",
              "      <th>4</th>\n",
              "      <td>1005</td>\n",
              "      <td>MIDAGE SINGLES/COUPLES</td>\n",
              "      <td>1</td>\n",
              "      <td>1</td>\n",
              "      <td>0</td>\n",
              "      <td>0</td>\n",
              "      <td>0</td>\n",
              "      <td>0</td>\n",
              "      <td>0</td>\n",
              "      <td>0</td>\n",
              "    </tr>\n",
              "  </tbody>\n",
              "</table>\n",
              "</div>"
            ],
            "text/plain": [
              "   LYLTY_CARD_NBR               LIFESTAGE  PREMIUM_CUSTOMER  \\\n",
              "0            1000   YOUNG SINGLES/COUPLES                 2   \n",
              "1            1002   YOUNG SINGLES/COUPLES                 1   \n",
              "2            1003          YOUNG FAMILIES                 0   \n",
              "3            1004   OLDER SINGLES/COUPLES                 1   \n",
              "4            1005  MIDAGE SINGLES/COUPLES                 1   \n",
              "\n",
              "   MIDAGE SINGLES/COUPLES  NEW FAMILIES  OLDER FAMILIES  \\\n",
              "0                       0             0               0   \n",
              "1                       0             0               0   \n",
              "2                       0             0               0   \n",
              "3                       0             0               0   \n",
              "4                       1             0               0   \n",
              "\n",
              "   OLDER SINGLES/COUPLES  RETIREES  YOUNG FAMILIES  YOUNG SINGLES/COUPLES  \n",
              "0                      0         0               0                      1  \n",
              "1                      0         0               0                      1  \n",
              "2                      0         0               1                      0  \n",
              "3                      1         0               0                      0  \n",
              "4                      0         0               0                      0  "
            ]
          },
          "metadata": {
            "tags": []
          },
          "execution_count": 174
        }
      ]
    },
    {
      "cell_type": "code",
      "metadata": {
        "id": "bQC8wKHoJCmk"
      },
      "source": [
        "data=data.drop('LIFESTAGE',axis=1)"
      ],
      "execution_count": 175,
      "outputs": []
    },
    {
      "cell_type": "code",
      "metadata": {
        "id": "xYm6ulAJJCo9",
        "colab": {
          "base_uri": "https://localhost:8080/",
          "height": 221
        },
        "outputId": "47d47ea6-198c-4517-e8c6-193bfac387f0"
      },
      "source": [
        "data.head()   #clean data "
      ],
      "execution_count": 176,
      "outputs": [
        {
          "output_type": "execute_result",
          "data": {
            "text/html": [
              "<div>\n",
              "<style scoped>\n",
              "    .dataframe tbody tr th:only-of-type {\n",
              "        vertical-align: middle;\n",
              "    }\n",
              "\n",
              "    .dataframe tbody tr th {\n",
              "        vertical-align: top;\n",
              "    }\n",
              "\n",
              "    .dataframe thead th {\n",
              "        text-align: right;\n",
              "    }\n",
              "</style>\n",
              "<table border=\"1\" class=\"dataframe\">\n",
              "  <thead>\n",
              "    <tr style=\"text-align: right;\">\n",
              "      <th></th>\n",
              "      <th>LYLTY_CARD_NBR</th>\n",
              "      <th>PREMIUM_CUSTOMER</th>\n",
              "      <th>MIDAGE SINGLES/COUPLES</th>\n",
              "      <th>NEW FAMILIES</th>\n",
              "      <th>OLDER FAMILIES</th>\n",
              "      <th>OLDER SINGLES/COUPLES</th>\n",
              "      <th>RETIREES</th>\n",
              "      <th>YOUNG FAMILIES</th>\n",
              "      <th>YOUNG SINGLES/COUPLES</th>\n",
              "    </tr>\n",
              "  </thead>\n",
              "  <tbody>\n",
              "    <tr>\n",
              "      <th>0</th>\n",
              "      <td>1000</td>\n",
              "      <td>2</td>\n",
              "      <td>0</td>\n",
              "      <td>0</td>\n",
              "      <td>0</td>\n",
              "      <td>0</td>\n",
              "      <td>0</td>\n",
              "      <td>0</td>\n",
              "      <td>1</td>\n",
              "    </tr>\n",
              "    <tr>\n",
              "      <th>1</th>\n",
              "      <td>1002</td>\n",
              "      <td>1</td>\n",
              "      <td>0</td>\n",
              "      <td>0</td>\n",
              "      <td>0</td>\n",
              "      <td>0</td>\n",
              "      <td>0</td>\n",
              "      <td>0</td>\n",
              "      <td>1</td>\n",
              "    </tr>\n",
              "    <tr>\n",
              "      <th>2</th>\n",
              "      <td>1003</td>\n",
              "      <td>0</td>\n",
              "      <td>0</td>\n",
              "      <td>0</td>\n",
              "      <td>0</td>\n",
              "      <td>0</td>\n",
              "      <td>0</td>\n",
              "      <td>1</td>\n",
              "      <td>0</td>\n",
              "    </tr>\n",
              "    <tr>\n",
              "      <th>3</th>\n",
              "      <td>1004</td>\n",
              "      <td>1</td>\n",
              "      <td>0</td>\n",
              "      <td>0</td>\n",
              "      <td>0</td>\n",
              "      <td>1</td>\n",
              "      <td>0</td>\n",
              "      <td>0</td>\n",
              "      <td>0</td>\n",
              "    </tr>\n",
              "    <tr>\n",
              "      <th>4</th>\n",
              "      <td>1005</td>\n",
              "      <td>1</td>\n",
              "      <td>1</td>\n",
              "      <td>0</td>\n",
              "      <td>0</td>\n",
              "      <td>0</td>\n",
              "      <td>0</td>\n",
              "      <td>0</td>\n",
              "      <td>0</td>\n",
              "    </tr>\n",
              "  </tbody>\n",
              "</table>\n",
              "</div>"
            ],
            "text/plain": [
              "   LYLTY_CARD_NBR  PREMIUM_CUSTOMER  MIDAGE SINGLES/COUPLES  NEW FAMILIES  \\\n",
              "0            1000                 2                       0             0   \n",
              "1            1002                 1                       0             0   \n",
              "2            1003                 0                       0             0   \n",
              "3            1004                 1                       0             0   \n",
              "4            1005                 1                       1             0   \n",
              "\n",
              "   OLDER FAMILIES  OLDER SINGLES/COUPLES  RETIREES  YOUNG FAMILIES  \\\n",
              "0               0                      0         0               0   \n",
              "1               0                      0         0               0   \n",
              "2               0                      0         0               1   \n",
              "3               0                      1         0               0   \n",
              "4               0                      0         0               0   \n",
              "\n",
              "   YOUNG SINGLES/COUPLES  \n",
              "0                      1  \n",
              "1                      1  \n",
              "2                      0  \n",
              "3                      0  \n",
              "4                      0  "
            ]
          },
          "metadata": {
            "tags": []
          },
          "execution_count": 176
        }
      ]
    },
    {
      "cell_type": "code",
      "metadata": {
        "id": "k5sQfPpxJC1R"
      },
      "source": [
        "final_data=pd.concat([new_data,data],axis=1)    #Mergeing the 2 datasets "
      ],
      "execution_count": 177,
      "outputs": []
    },
    {
      "cell_type": "code",
      "metadata": {
        "colab": {
          "base_uri": "https://localhost:8080/",
          "height": 411
        },
        "id": "-UEwUp1DYBhU",
        "outputId": "564b0d1e-87b7-436a-c2d0-bbc2e13ccea5"
      },
      "source": [
        "final_data.head()  #Named as final_data"
      ],
      "execution_count": 178,
      "outputs": [
        {
          "output_type": "execute_result",
          "data": {
            "text/html": [
              "<div>\n",
              "<style scoped>\n",
              "    .dataframe tbody tr th:only-of-type {\n",
              "        vertical-align: middle;\n",
              "    }\n",
              "\n",
              "    .dataframe tbody tr th {\n",
              "        vertical-align: top;\n",
              "    }\n",
              "\n",
              "    .dataframe thead th {\n",
              "        text-align: right;\n",
              "    }\n",
              "</style>\n",
              "<table border=\"1\" class=\"dataframe\">\n",
              "  <thead>\n",
              "    <tr style=\"text-align: right;\">\n",
              "      <th></th>\n",
              "      <th>DATE</th>\n",
              "      <th>STORE_NBR</th>\n",
              "      <th>LYLTY_CARD_NBR</th>\n",
              "      <th>TXN_ID</th>\n",
              "      <th>PROD_NBR</th>\n",
              "      <th>PROD_NAME</th>\n",
              "      <th>PROD_QTY</th>\n",
              "      <th>TOT_SALES</th>\n",
              "      <th>BRAND_NAME</th>\n",
              "      <th>PACK_SIZE</th>\n",
              "      <th>UNIT_PRICE</th>\n",
              "      <th>D_YEAR</th>\n",
              "      <th>D_DAY</th>\n",
              "      <th>D_MONTH_NAME</th>\n",
              "      <th>LYLTY_CARD_NBR</th>\n",
              "      <th>PREMIUM_CUSTOMER</th>\n",
              "      <th>MIDAGE SINGLES/COUPLES</th>\n",
              "      <th>NEW FAMILIES</th>\n",
              "      <th>OLDER FAMILIES</th>\n",
              "      <th>OLDER SINGLES/COUPLES</th>\n",
              "      <th>RETIREES</th>\n",
              "      <th>YOUNG FAMILIES</th>\n",
              "      <th>YOUNG SINGLES/COUPLES</th>\n",
              "    </tr>\n",
              "  </thead>\n",
              "  <tbody>\n",
              "    <tr>\n",
              "      <th>0</th>\n",
              "      <td>2018-10-17</td>\n",
              "      <td>1.0</td>\n",
              "      <td>1000.0</td>\n",
              "      <td>1.0</td>\n",
              "      <td>5.0</td>\n",
              "      <td>Natural Chip        Compny SeaSalt 175g</td>\n",
              "      <td>2.0</td>\n",
              "      <td>6.0</td>\n",
              "      <td>Natural</td>\n",
              "      <td>175</td>\n",
              "      <td>3.00</td>\n",
              "      <td>2018.0</td>\n",
              "      <td>17.0</td>\n",
              "      <td>Oct</td>\n",
              "      <td>1000.0</td>\n",
              "      <td>2.0</td>\n",
              "      <td>0.0</td>\n",
              "      <td>0.0</td>\n",
              "      <td>0.0</td>\n",
              "      <td>0.0</td>\n",
              "      <td>0.0</td>\n",
              "      <td>0.0</td>\n",
              "      <td>1.0</td>\n",
              "    </tr>\n",
              "    <tr>\n",
              "      <th>1</th>\n",
              "      <td>2019-05-14</td>\n",
              "      <td>1.0</td>\n",
              "      <td>1307.0</td>\n",
              "      <td>348.0</td>\n",
              "      <td>66.0</td>\n",
              "      <td>CCs Nacho Cheese    175g</td>\n",
              "      <td>3.0</td>\n",
              "      <td>6.3</td>\n",
              "      <td>CCs</td>\n",
              "      <td>175</td>\n",
              "      <td>2.10</td>\n",
              "      <td>2019.0</td>\n",
              "      <td>14.0</td>\n",
              "      <td>May</td>\n",
              "      <td>1002.0</td>\n",
              "      <td>1.0</td>\n",
              "      <td>0.0</td>\n",
              "      <td>0.0</td>\n",
              "      <td>0.0</td>\n",
              "      <td>0.0</td>\n",
              "      <td>0.0</td>\n",
              "      <td>0.0</td>\n",
              "      <td>1.0</td>\n",
              "    </tr>\n",
              "    <tr>\n",
              "      <th>2</th>\n",
              "      <td>2019-05-20</td>\n",
              "      <td>1.0</td>\n",
              "      <td>1343.0</td>\n",
              "      <td>383.0</td>\n",
              "      <td>61.0</td>\n",
              "      <td>Smiths Crinkle Cut  Chips Chicken 170g</td>\n",
              "      <td>2.0</td>\n",
              "      <td>2.9</td>\n",
              "      <td>Smiths</td>\n",
              "      <td>170</td>\n",
              "      <td>1.45</td>\n",
              "      <td>2019.0</td>\n",
              "      <td>20.0</td>\n",
              "      <td>May</td>\n",
              "      <td>1003.0</td>\n",
              "      <td>0.0</td>\n",
              "      <td>0.0</td>\n",
              "      <td>0.0</td>\n",
              "      <td>0.0</td>\n",
              "      <td>0.0</td>\n",
              "      <td>0.0</td>\n",
              "      <td>1.0</td>\n",
              "      <td>0.0</td>\n",
              "    </tr>\n",
              "    <tr>\n",
              "      <th>3</th>\n",
              "      <td>2018-08-17</td>\n",
              "      <td>2.0</td>\n",
              "      <td>2373.0</td>\n",
              "      <td>974.0</td>\n",
              "      <td>69.0</td>\n",
              "      <td>Smiths Chip Thinly  S/Cream&amp;Onion 175g</td>\n",
              "      <td>5.0</td>\n",
              "      <td>15.0</td>\n",
              "      <td>Smiths</td>\n",
              "      <td>175</td>\n",
              "      <td>3.00</td>\n",
              "      <td>2018.0</td>\n",
              "      <td>17.0</td>\n",
              "      <td>Aug</td>\n",
              "      <td>1004.0</td>\n",
              "      <td>1.0</td>\n",
              "      <td>0.0</td>\n",
              "      <td>0.0</td>\n",
              "      <td>0.0</td>\n",
              "      <td>1.0</td>\n",
              "      <td>0.0</td>\n",
              "      <td>0.0</td>\n",
              "      <td>0.0</td>\n",
              "    </tr>\n",
              "    <tr>\n",
              "      <th>4</th>\n",
              "      <td>2018-08-18</td>\n",
              "      <td>2.0</td>\n",
              "      <td>2426.0</td>\n",
              "      <td>1038.0</td>\n",
              "      <td>108.0</td>\n",
              "      <td>Kettle Tortilla ChpsHny&amp;Jlpno Chili 150g</td>\n",
              "      <td>3.0</td>\n",
              "      <td>13.8</td>\n",
              "      <td>Kettle</td>\n",
              "      <td>150</td>\n",
              "      <td>4.60</td>\n",
              "      <td>2018.0</td>\n",
              "      <td>18.0</td>\n",
              "      <td>Aug</td>\n",
              "      <td>1005.0</td>\n",
              "      <td>1.0</td>\n",
              "      <td>1.0</td>\n",
              "      <td>0.0</td>\n",
              "      <td>0.0</td>\n",
              "      <td>0.0</td>\n",
              "      <td>0.0</td>\n",
              "      <td>0.0</td>\n",
              "      <td>0.0</td>\n",
              "    </tr>\n",
              "  </tbody>\n",
              "</table>\n",
              "</div>"
            ],
            "text/plain": [
              "        DATE  STORE_NBR  LYLTY_CARD_NBR  TXN_ID  PROD_NBR  \\\n",
              "0 2018-10-17        1.0          1000.0     1.0       5.0   \n",
              "1 2019-05-14        1.0          1307.0   348.0      66.0   \n",
              "2 2019-05-20        1.0          1343.0   383.0      61.0   \n",
              "3 2018-08-17        2.0          2373.0   974.0      69.0   \n",
              "4 2018-08-18        2.0          2426.0  1038.0     108.0   \n",
              "\n",
              "                                  PROD_NAME  PROD_QTY  TOT_SALES BRAND_NAME  \\\n",
              "0   Natural Chip        Compny SeaSalt 175g       2.0        6.0    Natural   \n",
              "1                  CCs Nacho Cheese    175g       3.0        6.3        CCs   \n",
              "2    Smiths Crinkle Cut  Chips Chicken 170g       2.0        2.9     Smiths   \n",
              "3    Smiths Chip Thinly  S/Cream&Onion 175g       5.0       15.0     Smiths   \n",
              "4  Kettle Tortilla ChpsHny&Jlpno Chili 150g       3.0       13.8     Kettle   \n",
              "\n",
              "  PACK_SIZE  UNIT_PRICE  D_YEAR  D_DAY D_MONTH_NAME  LYLTY_CARD_NBR  \\\n",
              "0       175        3.00  2018.0   17.0          Oct          1000.0   \n",
              "1       175        2.10  2019.0   14.0          May          1002.0   \n",
              "2       170        1.45  2019.0   20.0          May          1003.0   \n",
              "3       175        3.00  2018.0   17.0          Aug          1004.0   \n",
              "4       150        4.60  2018.0   18.0          Aug          1005.0   \n",
              "\n",
              "   PREMIUM_CUSTOMER  MIDAGE SINGLES/COUPLES  NEW FAMILIES  OLDER FAMILIES  \\\n",
              "0               2.0                     0.0           0.0             0.0   \n",
              "1               1.0                     0.0           0.0             0.0   \n",
              "2               0.0                     0.0           0.0             0.0   \n",
              "3               1.0                     0.0           0.0             0.0   \n",
              "4               1.0                     1.0           0.0             0.0   \n",
              "\n",
              "   OLDER SINGLES/COUPLES  RETIREES  YOUNG FAMILIES  YOUNG SINGLES/COUPLES  \n",
              "0                    0.0       0.0             0.0                    1.0  \n",
              "1                    0.0       0.0             0.0                    1.0  \n",
              "2                    0.0       0.0             1.0                    0.0  \n",
              "3                    1.0       0.0             0.0                    0.0  \n",
              "4                    0.0       0.0             0.0                    0.0  "
            ]
          },
          "metadata": {
            "tags": []
          },
          "execution_count": 178
        }
      ]
    },
    {
      "cell_type": "code",
      "metadata": {
        "id": "2eunOsFlYHsK"
      },
      "source": [
        "final_data=final_data.drop('DATE',axis=1)"
      ],
      "execution_count": 182,
      "outputs": []
    },
    {
      "cell_type": "code",
      "metadata": {
        "id": "-vT0XlxoZfdH"
      },
      "source": [
        "final_data=final_data.drop('PROD_NAME',axis=1)"
      ],
      "execution_count": 183,
      "outputs": []
    },
    {
      "cell_type": "code",
      "metadata": {
        "colab": {
          "base_uri": "https://localhost:8080/",
          "height": 241
        },
        "id": "GydhUwjeZjPo",
        "outputId": "c5aabf7d-9329-429c-ee97-818d472ab700"
      },
      "source": [
        "final_data.head()"
      ],
      "execution_count": 184,
      "outputs": [
        {
          "output_type": "execute_result",
          "data": {
            "text/html": [
              "<div>\n",
              "<style scoped>\n",
              "    .dataframe tbody tr th:only-of-type {\n",
              "        vertical-align: middle;\n",
              "    }\n",
              "\n",
              "    .dataframe tbody tr th {\n",
              "        vertical-align: top;\n",
              "    }\n",
              "\n",
              "    .dataframe thead th {\n",
              "        text-align: right;\n",
              "    }\n",
              "</style>\n",
              "<table border=\"1\" class=\"dataframe\">\n",
              "  <thead>\n",
              "    <tr style=\"text-align: right;\">\n",
              "      <th></th>\n",
              "      <th>STORE_NBR</th>\n",
              "      <th>LYLTY_CARD_NBR</th>\n",
              "      <th>TXN_ID</th>\n",
              "      <th>PROD_NBR</th>\n",
              "      <th>PROD_QTY</th>\n",
              "      <th>TOT_SALES</th>\n",
              "      <th>BRAND_NAME</th>\n",
              "      <th>PACK_SIZE</th>\n",
              "      <th>UNIT_PRICE</th>\n",
              "      <th>D_YEAR</th>\n",
              "      <th>D_DAY</th>\n",
              "      <th>D_MONTH_NAME</th>\n",
              "      <th>LYLTY_CARD_NBR</th>\n",
              "      <th>PREMIUM_CUSTOMER</th>\n",
              "      <th>MIDAGE SINGLES/COUPLES</th>\n",
              "      <th>NEW FAMILIES</th>\n",
              "      <th>OLDER FAMILIES</th>\n",
              "      <th>OLDER SINGLES/COUPLES</th>\n",
              "      <th>RETIREES</th>\n",
              "      <th>YOUNG FAMILIES</th>\n",
              "      <th>YOUNG SINGLES/COUPLES</th>\n",
              "    </tr>\n",
              "  </thead>\n",
              "  <tbody>\n",
              "    <tr>\n",
              "      <th>0</th>\n",
              "      <td>1.0</td>\n",
              "      <td>1000.0</td>\n",
              "      <td>1.0</td>\n",
              "      <td>5.0</td>\n",
              "      <td>2.0</td>\n",
              "      <td>6.0</td>\n",
              "      <td>Natural</td>\n",
              "      <td>175</td>\n",
              "      <td>3.00</td>\n",
              "      <td>2018.0</td>\n",
              "      <td>17.0</td>\n",
              "      <td>Oct</td>\n",
              "      <td>1000.0</td>\n",
              "      <td>2.0</td>\n",
              "      <td>0.0</td>\n",
              "      <td>0.0</td>\n",
              "      <td>0.0</td>\n",
              "      <td>0.0</td>\n",
              "      <td>0.0</td>\n",
              "      <td>0.0</td>\n",
              "      <td>1.0</td>\n",
              "    </tr>\n",
              "    <tr>\n",
              "      <th>1</th>\n",
              "      <td>1.0</td>\n",
              "      <td>1307.0</td>\n",
              "      <td>348.0</td>\n",
              "      <td>66.0</td>\n",
              "      <td>3.0</td>\n",
              "      <td>6.3</td>\n",
              "      <td>CCs</td>\n",
              "      <td>175</td>\n",
              "      <td>2.10</td>\n",
              "      <td>2019.0</td>\n",
              "      <td>14.0</td>\n",
              "      <td>May</td>\n",
              "      <td>1002.0</td>\n",
              "      <td>1.0</td>\n",
              "      <td>0.0</td>\n",
              "      <td>0.0</td>\n",
              "      <td>0.0</td>\n",
              "      <td>0.0</td>\n",
              "      <td>0.0</td>\n",
              "      <td>0.0</td>\n",
              "      <td>1.0</td>\n",
              "    </tr>\n",
              "    <tr>\n",
              "      <th>2</th>\n",
              "      <td>1.0</td>\n",
              "      <td>1343.0</td>\n",
              "      <td>383.0</td>\n",
              "      <td>61.0</td>\n",
              "      <td>2.0</td>\n",
              "      <td>2.9</td>\n",
              "      <td>Smiths</td>\n",
              "      <td>170</td>\n",
              "      <td>1.45</td>\n",
              "      <td>2019.0</td>\n",
              "      <td>20.0</td>\n",
              "      <td>May</td>\n",
              "      <td>1003.0</td>\n",
              "      <td>0.0</td>\n",
              "      <td>0.0</td>\n",
              "      <td>0.0</td>\n",
              "      <td>0.0</td>\n",
              "      <td>0.0</td>\n",
              "      <td>0.0</td>\n",
              "      <td>1.0</td>\n",
              "      <td>0.0</td>\n",
              "    </tr>\n",
              "    <tr>\n",
              "      <th>3</th>\n",
              "      <td>2.0</td>\n",
              "      <td>2373.0</td>\n",
              "      <td>974.0</td>\n",
              "      <td>69.0</td>\n",
              "      <td>5.0</td>\n",
              "      <td>15.0</td>\n",
              "      <td>Smiths</td>\n",
              "      <td>175</td>\n",
              "      <td>3.00</td>\n",
              "      <td>2018.0</td>\n",
              "      <td>17.0</td>\n",
              "      <td>Aug</td>\n",
              "      <td>1004.0</td>\n",
              "      <td>1.0</td>\n",
              "      <td>0.0</td>\n",
              "      <td>0.0</td>\n",
              "      <td>0.0</td>\n",
              "      <td>1.0</td>\n",
              "      <td>0.0</td>\n",
              "      <td>0.0</td>\n",
              "      <td>0.0</td>\n",
              "    </tr>\n",
              "    <tr>\n",
              "      <th>4</th>\n",
              "      <td>2.0</td>\n",
              "      <td>2426.0</td>\n",
              "      <td>1038.0</td>\n",
              "      <td>108.0</td>\n",
              "      <td>3.0</td>\n",
              "      <td>13.8</td>\n",
              "      <td>Kettle</td>\n",
              "      <td>150</td>\n",
              "      <td>4.60</td>\n",
              "      <td>2018.0</td>\n",
              "      <td>18.0</td>\n",
              "      <td>Aug</td>\n",
              "      <td>1005.0</td>\n",
              "      <td>1.0</td>\n",
              "      <td>1.0</td>\n",
              "      <td>0.0</td>\n",
              "      <td>0.0</td>\n",
              "      <td>0.0</td>\n",
              "      <td>0.0</td>\n",
              "      <td>0.0</td>\n",
              "      <td>0.0</td>\n",
              "    </tr>\n",
              "  </tbody>\n",
              "</table>\n",
              "</div>"
            ],
            "text/plain": [
              "   STORE_NBR  LYLTY_CARD_NBR  TXN_ID  PROD_NBR  PROD_QTY  TOT_SALES  \\\n",
              "0        1.0          1000.0     1.0       5.0       2.0        6.0   \n",
              "1        1.0          1307.0   348.0      66.0       3.0        6.3   \n",
              "2        1.0          1343.0   383.0      61.0       2.0        2.9   \n",
              "3        2.0          2373.0   974.0      69.0       5.0       15.0   \n",
              "4        2.0          2426.0  1038.0     108.0       3.0       13.8   \n",
              "\n",
              "  BRAND_NAME PACK_SIZE  UNIT_PRICE  D_YEAR  D_DAY D_MONTH_NAME  \\\n",
              "0    Natural       175        3.00  2018.0   17.0          Oct   \n",
              "1        CCs       175        2.10  2019.0   14.0          May   \n",
              "2     Smiths       170        1.45  2019.0   20.0          May   \n",
              "3     Smiths       175        3.00  2018.0   17.0          Aug   \n",
              "4     Kettle       150        4.60  2018.0   18.0          Aug   \n",
              "\n",
              "   LYLTY_CARD_NBR  PREMIUM_CUSTOMER  MIDAGE SINGLES/COUPLES  NEW FAMILIES  \\\n",
              "0          1000.0               2.0                     0.0           0.0   \n",
              "1          1002.0               1.0                     0.0           0.0   \n",
              "2          1003.0               0.0                     0.0           0.0   \n",
              "3          1004.0               1.0                     0.0           0.0   \n",
              "4          1005.0               1.0                     1.0           0.0   \n",
              "\n",
              "   OLDER FAMILIES  OLDER SINGLES/COUPLES  RETIREES  YOUNG FAMILIES  \\\n",
              "0             0.0                    0.0       0.0             0.0   \n",
              "1             0.0                    0.0       0.0             0.0   \n",
              "2             0.0                    0.0       0.0             1.0   \n",
              "3             0.0                    1.0       0.0             0.0   \n",
              "4             0.0                    0.0       0.0             0.0   \n",
              "\n",
              "   YOUNG SINGLES/COUPLES  \n",
              "0                    1.0  \n",
              "1                    1.0  \n",
              "2                    0.0  \n",
              "3                    0.0  \n",
              "4                    0.0  "
            ]
          },
          "metadata": {
            "tags": []
          },
          "execution_count": 184
        }
      ]
    },
    {
      "cell_type": "markdown",
      "metadata": {
        "id": "Q8ncLm1nZp8t"
      },
      "source": [
        "Our final data has all numeric values excluding MONTH_NAME and PROD_NAME columns ,we have already extracted the month number in the upper section using datetime module and in case of PROD_NAME column we can use get_dummies function in order to make it appropriate for the computer to read and analyse if required."
      ]
    },
    {
      "cell_type": "markdown",
      "metadata": {
        "id": "00XTIJn_aR89"
      },
      "source": [
        "# **Submission by- PURVI BHOYAR**\n",
        "# **Platform used- GOOGLE COLAB**\n",
        "\n",
        "# **THANK YOU**\n"
      ]
    }
  ]
}